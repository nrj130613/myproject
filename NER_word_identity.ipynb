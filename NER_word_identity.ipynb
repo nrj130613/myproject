{
  "cells": [
    {
      "cell_type": "markdown",
      "metadata": {
        "id": "view-in-github",
        "colab_type": "text"
      },
      "source": [
        "<a href=\"https://colab.research.google.com/github/nrj130613/myproject/blob/main/NER_word_identity.ipynb\" target=\"_parent\"><img src=\"https://colab.research.google.com/assets/colab-badge.svg\" alt=\"Open In Colab\"/></a>"
      ]
    },
    {
      "cell_type": "markdown",
      "metadata": {
        "id": "Hyoh28LtDN2h"
      },
      "source": [
        "# 1. Download Data"
      ]
    },
    {
      "cell_type": "code",
      "execution_count": null,
      "metadata": {
        "colab": {
          "base_uri": "https://localhost:8080/"
        },
        "id": "Jivk7RHLcfs5",
        "outputId": "1839100f-d162-4257-ebb1-e8ebb9f2ad1a"
      },
      "outputs": [
        {
          "output_type": "stream",
          "name": "stdout",
          "text": [
            "Looking in indexes: https://pypi.org/simple, https://us-python.pkg.dev/colab-wheels/public/simple/\n",
            "Collecting sklearn-crfsuite\n",
            "  Downloading sklearn_crfsuite-0.3.6-py2.py3-none-any.whl (12 kB)\n",
            "Collecting python-crfsuite>=0.8.3\n",
            "  Downloading python_crfsuite-0.9.9-cp39-cp39-manylinux_2_17_x86_64.manylinux2014_x86_64.whl (1.0 MB)\n",
            "\u001b[2K     \u001b[90m━━━━━━━━━━━━━━━━━━━━━━━━━━━━━━━━━━━━━━━━\u001b[0m \u001b[32m1.0/1.0 MB\u001b[0m \u001b[31m15.9 MB/s\u001b[0m eta \u001b[36m0:00:00\u001b[0m\n",
            "\u001b[?25hRequirement already satisfied: tabulate in /usr/local/lib/python3.9/dist-packages (from sklearn-crfsuite) (0.8.10)\n",
            "Requirement already satisfied: six in /usr/local/lib/python3.9/dist-packages (from sklearn-crfsuite) (1.16.0)\n",
            "Requirement already satisfied: tqdm>=2.0 in /usr/local/lib/python3.9/dist-packages (from sklearn-crfsuite) (4.65.0)\n",
            "Installing collected packages: python-crfsuite, sklearn-crfsuite\n",
            "Successfully installed python-crfsuite-0.9.9 sklearn-crfsuite-0.3.6\n"
          ]
        }
      ],
      "source": [
        "!pip install sklearn-crfsuite"
      ]
    },
    {
      "cell_type": "code",
      "execution_count": null,
      "metadata": {
        "colab": {
          "base_uri": "https://localhost:8080/"
        },
        "id": "CsNUsIdla17i",
        "outputId": "94e62ddf-eb56-42c5-f206-f1fd2e9da67e"
      },
      "outputs": [
        {
          "output_type": "stream",
          "name": "stdout",
          "text": [
            "Downloading...\n",
            "From: https://drive.google.com/uc?id=1LHZe1etwxaKnP6TWTbDscasBe5pGykjJ\n",
            "To: /content/train_auto_tok.tsv\n",
            "100% 38.9M/38.9M [00:00<00:00, 116MB/s]\n"
          ]
        }
      ],
      "source": [
        "!gdown 1LHZe1etwxaKnP6TWTbDscasBe5pGykjJ"
      ]
    },
    {
      "cell_type": "code",
      "execution_count": null,
      "metadata": {
        "colab": {
          "base_uri": "https://localhost:8080/"
        },
        "id": "7_yMUtkhDN2u",
        "outputId": "95ac2b6b-5f67-41c8-f123-3b8ec7940b36"
      },
      "outputs": [
        {
          "output_type": "stream",
          "name": "stdout",
          "text": [
            "ธรรมนูญ\tB_PER\n",
            "แชมป์\tO\n",
            "สิงห์\tO\n",
            "คลาสสิก\tO\n",
            "กวาด\tO\n",
            "รางวัล\tO\n",
            "แสน\tO\n",
            "สี่\tO\n",
            "หมื่น\tO\n",
            "บาท\tO\n"
          ]
        }
      ],
      "source": [
        "!head train_auto_tok.tsv"
      ]
    },
    {
      "cell_type": "code",
      "execution_count": null,
      "metadata": {
        "colab": {
          "base_uri": "https://localhost:8080/"
        },
        "id": "V3X5dFX_fakH",
        "outputId": "8955a2dd-f3d4-46c6-c84d-1029b61bb617"
      },
      "outputs": [
        {
          "output_type": "stream",
          "name": "stdout",
          "text": [
            "Downloading...\n",
            "From: https://drive.google.com/uc?id=1LtdB8q2xVhK7vivJxTU6yYnl3KTG-QGS\n",
            "To: /content/dev_auto_tok.tsv\n",
            "\r  0% 0.00/3.56M [00:00<?, ?B/s]\r100% 3.56M/3.56M [00:00<00:00, 167MB/s]\n"
          ]
        }
      ],
      "source": [
        "!gdown 1LtdB8q2xVhK7vivJxTU6yYnl3KTG-QGS"
      ]
    },
    {
      "cell_type": "code",
      "execution_count": null,
      "metadata": {
        "id": "KpLjfGPwv9pG"
      },
      "outputs": [],
      "source": [
        "def load_data(file_name):\n",
        "    with open(file_name, 'r') as f:\n",
        "        lines = f.read().splitlines()\n",
        "\n",
        "    X, Y = [], []\n",
        "    sentence, labels = [], []\n",
        "    for line in lines:\n",
        "        if not line:\n",
        "            if sentence:\n",
        "                X.append(sentence)\n",
        "                Y.append(labels)\n",
        "                sentence, labels = [], []\n",
        "        else:\n",
        "            word, tag = line.split('\\t')\n",
        "            sentence.append(word)\n",
        "            labels.append(tag)\n",
        "    if sentence:\n",
        "        X.append(sentence)\n",
        "        Y.append(labels)\n",
        "\n",
        "    return (X, Y)\n"
      ]
    },
    {
      "cell_type": "code",
      "execution_count": null,
      "metadata": {
        "id": "nCAI5im4fm8G"
      },
      "outputs": [],
      "source": [
        "Xtrain, Ytrain = load_data('train_auto_tok.tsv')\n",
        "Xtest, Ytest = load_data('dev_auto_tok.tsv')"
      ]
    },
    {
      "cell_type": "code",
      "execution_count": null,
      "metadata": {
        "id": "uzNGTg4aDN27"
      },
      "outputs": [],
      "source": [
        "import sklearn_crfsuite\n",
        "import sklearn_crfsuite.metrics"
      ]
    },
    {
      "cell_type": "markdown",
      "metadata": {
        "id": "0aocgHCXiNuR"
      },
      "source": [
        "# 2. Feature Engineering"
      ]
    },
    {
      "cell_type": "code",
      "execution_count": null,
      "metadata": {
        "colab": {
          "base_uri": "https://localhost:8080/"
        },
        "id": "J_jiAHYnkbuF",
        "outputId": "cb7132a3-5e08-4167-80ea-bddf2c60210c"
      },
      "outputs": [
        {
          "output_type": "stream",
          "name": "stdout",
          "text": [
            "Looking in indexes: https://pypi.org/simple, https://us-python.pkg.dev/colab-wheels/public/simple/\n",
            "Collecting pythainlp\n",
            "  Downloading pythainlp-4.0.0-py3-none-any.whl (13.4 MB)\n",
            "\u001b[2K     \u001b[90m━━━━━━━━━━━━━━━━━━━━━━━━━━━━━━━━━━━━━━━━\u001b[0m \u001b[32m13.4/13.4 MB\u001b[0m \u001b[31m45.4 MB/s\u001b[0m eta \u001b[36m0:00:00\u001b[0m\n",
            "\u001b[?25hRequirement already satisfied: requests>=2.22.0 in /usr/local/lib/python3.9/dist-packages (from pythainlp) (2.27.1)\n",
            "Requirement already satisfied: idna<4,>=2.5 in /usr/local/lib/python3.9/dist-packages (from requests>=2.22.0->pythainlp) (3.4)\n",
            "Requirement already satisfied: charset-normalizer~=2.0.0 in /usr/local/lib/python3.9/dist-packages (from requests>=2.22.0->pythainlp) (2.0.12)\n",
            "Requirement already satisfied: certifi>=2017.4.17 in /usr/local/lib/python3.9/dist-packages (from requests>=2.22.0->pythainlp) (2022.12.7)\n",
            "Requirement already satisfied: urllib3<1.27,>=1.21.1 in /usr/local/lib/python3.9/dist-packages (from requests>=2.22.0->pythainlp) (1.26.15)\n",
            "Installing collected packages: pythainlp\n",
            "Successfully installed pythainlp-4.0.0\n"
          ]
        }
      ],
      "source": [
        "!pip install pythainlp"
      ]
    },
    {
      "cell_type": "code",
      "execution_count": null,
      "metadata": {
        "id": "Uf0yttJt3J6f"
      },
      "outputs": [],
      "source": [
        "from pythainlp import (\n",
        "    thai_lead_vowels,\n",
        "    thai_follow_vowels,\n",
        "    thai_above_vowels,\n",
        "    thai_below_vowels,\n",
        "    thai_consonants,\n",
        "    thai_vowels,\n",
        "    thai_tonemarks,\n",
        "    thai_signs,\n",
        "    thai_digits,\n",
        "    thai_punctuations)"
      ]
    },
    {
      "cell_type": "code",
      "execution_count": null,
      "metadata": {
        "id": "fCJXmXcGzbjZ"
      },
      "outputs": [],
      "source": [
        "consonants = set(thai_consonants)\n",
        "vowels = set(thai_vowels)\n",
        "tonemarks = set(thai_tonemarks)\n",
        "punc = set(thai_punctuations)"
      ]
    },
    {
      "cell_type": "markdown",
      "metadata": {
        "id": "5Cp8iT8rlarE"
      },
      "source": [
        "# Orthographical Features"
      ]
    },
    {
      "cell_type": "code",
      "execution_count": null,
      "metadata": {
        "id": "dZTicjtL5ekt"
      },
      "outputs": [],
      "source": [
        "def featurize(sentence):\n",
        "    feature_seq = []\n",
        "    feature_dict_seq = []\n",
        "    for i, token in enumerate(sentence):\n",
        "        feature_dict = {}\n",
        "        # word identity feature\n",
        "        feature_dict['word'] = token\n",
        "        # position features\n",
        "        feature_dict['bias'] = 1.0\n",
        "        feature_dict['pos'] = i\n",
        "        feature_dict['pos_inv'] = len(sentence) - i\n",
        "        feature_dict_seq.append(feature_dict)\n",
        "    feature_seq.append(feature_dict_seq)\n",
        "    return feature_seq\n",
        "\n",
        "from sklearn_crfsuite import CRF, metrics\n",
        "\n",
        "def train_and_evaluate(Xtrain, Ytrain, Xtest, Ytest):\n",
        "    X_train_feats = []\n",
        "    X_test_feats = []\n",
        "    for sent in Xtrain:\n",
        "        X_train_feats.append(featurize(sent))\n",
        "    for sent in Xtest:\n",
        "        X_test_feats.append(featurize(sent))\n",
        "    crf = CRF()\n",
        "    crf.fit(X_train_feats, Ytrain)\n",
        "    y_pred = crf.predict(X_test_feats)\n",
        "    f1_score = metrics.flat_f1_score(Ytest, y_pred, average='weighted', labels=crf.classes_, zero_division=1)\n",
        "    return f1_score\n"
      ]
    },
    {
      "cell_type": "code",
      "execution_count": null,
      "metadata": {
        "id": "AMCRlh3_Vc1I"
      },
      "outputs": [],
      "source": [
        "sample = Xtrain[1]"
      ]
    },
    {
      "cell_type": "code",
      "execution_count": null,
      "metadata": {
        "colab": {
          "base_uri": "https://localhost:8080/"
        },
        "id": "HDDRxuah5hw5",
        "outputId": "47c66a0b-f24b-40bf-a9c2-b7b2d10ea7b5"
      },
      "outputs": [
        {
          "data": {
            "text/plain": [
              "[{'word': 'ธรรมนูญ', 'bias': 1.0, 'pos': 0, 'pos_inv': 44},\n",
              " {'word': ' ', 'bias': 1.0, 'pos': 1, 'pos_inv': 43},\n",
              " {'word': 'ศรี', 'bias': 1.0, 'pos': 2, 'pos_inv': 42},\n",
              " {'word': 'โรจน์', 'bias': 1.0, 'pos': 3, 'pos_inv': 41},\n",
              " {'word': ' ', 'bias': 1.0, 'pos': 4, 'pos_inv': 40},\n",
              " {'word': 'เก็บ', 'bias': 1.0, 'pos': 5, 'pos_inv': 39},\n",
              " {'word': 'เพิ่ม', 'bias': 1.0, 'pos': 6, 'pos_inv': 38},\n",
              " {'word': ' ', 'bias': 1.0, 'pos': 7, 'pos_inv': 37},\n",
              " {'word': '4', 'bias': 1.0, 'pos': 8, 'pos_inv': 36},\n",
              " {'word': ' ', 'bias': 1.0, 'pos': 9, 'pos_inv': 35},\n",
              " {'word': 'อันเดอร์', 'bias': 1.0, 'pos': 10, 'pos_inv': 34},\n",
              " {'word': 'พาร์', 'bias': 1.0, 'pos': 11, 'pos_inv': 33},\n",
              " {'word': ' ', 'bias': 1.0, 'pos': 12, 'pos_inv': 32},\n",
              " {'word': '68', 'bias': 1.0, 'pos': 13, 'pos_inv': 31},\n",
              " {'word': ' ', 'bias': 1.0, 'pos': 14, 'pos_inv': 30},\n",
              " {'word': 'เข้า', 'bias': 1.0, 'pos': 15, 'pos_inv': 29},\n",
              " {'word': 'ป้าย', 'bias': 1.0, 'pos': 16, 'pos_inv': 28},\n",
              " {'word': 'รับ', 'bias': 1.0, 'pos': 17, 'pos_inv': 27},\n",
              " {'word': 'แชมป์', 'bias': 1.0, 'pos': 18, 'pos_inv': 26},\n",
              " {'word': 'ใน', 'bias': 1.0, 'pos': 19, 'pos_inv': 25},\n",
              " {'word': 'การ', 'bias': 1.0, 'pos': 20, 'pos_inv': 24},\n",
              " {'word': 'เล่น', 'bias': 1.0, 'pos': 21, 'pos_inv': 23},\n",
              " {'word': 'อาชีพ', 'bias': 1.0, 'pos': 22, 'pos_inv': 22},\n",
              " {'word': ' ', 'bias': 1.0, 'pos': 23, 'pos_inv': 21},\n",
              " {'word': '19', 'bias': 1.0, 'pos': 24, 'pos_inv': 20},\n",
              " {'word': ' ', 'bias': 1.0, 'pos': 25, 'pos_inv': 19},\n",
              " {'word': 'ปี', 'bias': 1.0, 'pos': 26, 'pos_inv': 18},\n",
              " {'word': 'เป็น', 'bias': 1.0, 'pos': 27, 'pos_inv': 17},\n",
              " {'word': 'ครั้ง', 'bias': 1.0, 'pos': 28, 'pos_inv': 16},\n",
              " {'word': 'ที่', 'bias': 1.0, 'pos': 29, 'pos_inv': 15},\n",
              " {'word': ' ', 'bias': 1.0, 'pos': 30, 'pos_inv': 14},\n",
              " {'word': '8', 'bias': 1.0, 'pos': 31, 'pos_inv': 13},\n",
              " {'word': ' ', 'bias': 1.0, 'pos': 32, 'pos_inv': 12},\n",
              " {'word': 'ใน', 'bias': 1.0, 'pos': 33, 'pos_inv': 11},\n",
              " {'word': 'ชีวิต', 'bias': 1.0, 'pos': 34, 'pos_inv': 10},\n",
              " {'word': 'ด้วย', 'bias': 1.0, 'pos': 35, 'pos_inv': 9},\n",
              " {'word': 'สกอร์', 'bias': 1.0, 'pos': 36, 'pos_inv': 8},\n",
              " {'word': ' ', 'bias': 1.0, 'pos': 37, 'pos_inv': 7},\n",
              " {'word': '18', 'bias': 1.0, 'pos': 38, 'pos_inv': 6},\n",
              " {'word': ' ', 'bias': 1.0, 'pos': 39, 'pos_inv': 5},\n",
              " {'word': 'อันเดอร์', 'bias': 1.0, 'pos': 40, 'pos_inv': 4},\n",
              " {'word': 'พาร์', 'bias': 1.0, 'pos': 41, 'pos_inv': 3},\n",
              " {'word': ' ', 'bias': 1.0, 'pos': 42, 'pos_inv': 2},\n",
              " {'word': '270', 'bias': 1.0, 'pos': 43, 'pos_inv': 1}]"
            ]
          },
          "execution_count": 18,
          "metadata": {},
          "output_type": "execute_result"
        }
      ],
      "source": [
        "featurize(sample)"
      ]
    },
    {
      "cell_type": "markdown",
      "metadata": {
        "id": "FcJrivsrktwa"
      },
      "source": [
        "# 3. Train and evaluate models"
      ]
    },
    {
      "cell_type": "code",
      "execution_count": null,
      "metadata": {
        "id": "mpL5xKs_-oVR"
      },
      "outputs": [],
      "source": [
        "from sklearn_crfsuite import CRF, metrics\n",
        "\n",
        "def featurize(sentence):\n",
        "    feature_seq = []\n",
        "    for i, token in enumerate(sentence):\n",
        "        feature_dict = {}\n",
        "        # word identity feature\n",
        "        feature_dict['word'] = token\n",
        "        # position features\n",
        "        feature_dict['bias'] = 1.0\n",
        "        feature_seq.append(feature_dict)\n",
        "    return feature_seq\n",
        "\n",
        "def train_and_evaluate(Xtrain, Ytrain, Xtest, Ytest):\n",
        "    X_train_feats = [featurize(sent) for sent in Xtrain]\n",
        "    X_test_feats = [featurize(sent) for sent in Xtest]\n",
        "    crf = CRF()\n",
        "    crf.fit(X_train_feats, Ytrain)\n",
        "    y_pred = crf.predict(X_test_feats)\n",
        "    f1_score = metrics.flat_f1_score(Ytest, y_pred, average='weighted', labels=crf.classes_, zero_division=1)\n",
        "    return f1_score\n"
      ]
    },
    {
      "cell_type": "code",
      "execution_count": null,
      "metadata": {
        "colab": {
          "base_uri": "https://localhost:8080/"
        },
        "id": "nm-NciQ99BIx",
        "outputId": "f8237acc-aed1-47fb-ccd5-83bd7efce5f3"
      },
      "outputs": [
        {
          "output_type": "execute_result",
          "data": {
            "text/plain": [
              "0.8726523969836957"
            ]
          },
          "metadata": {},
          "execution_count": 14
        }
      ],
      "source": [
        "train_and_evaluate(Xtrain[0:20000], Ytrain[0:20000], Xtest[0:20000], Ytest[0:20000])"
      ]
    }
  ],
  "metadata": {
    "colab": {
      "collapsed_sections": [
        "iCPuLSfZif1-"
      ],
      "provenance": [],
      "include_colab_link": true
    },
    "kernelspec": {
      "display_name": "Python 3 (ipykernel)",
      "language": "python",
      "name": "python3"
    },
    "language_info": {
      "codemirror_mode": {
        "name": "ipython",
        "version": 3
      },
      "file_extension": ".py",
      "mimetype": "text/x-python",
      "name": "python",
      "nbconvert_exporter": "python",
      "pygments_lexer": "ipython3",
      "version": "3.8.12"
    }
  },
  "nbformat": 4,
  "nbformat_minor": 0
}