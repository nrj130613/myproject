{
  "nbformat": 4,
  "nbformat_minor": 0,
  "metadata": {
    "colab": {
      "provenance": [],
      "collapsed_sections": [
        "kEEskpkubXYY"
      ],
      "include_colab_link": true
    },
    "kernelspec": {
      "name": "python3",
      "display_name": "Python 3"
    },
    "language_info": {
      "name": "python"
    }
  },
  "cells": [
    {
      "cell_type": "markdown",
      "metadata": {
        "id": "view-in-github",
        "colab_type": "text"
      },
      "source": [
        "<a href=\"https://colab.research.google.com/github/nrj130613/myproject/blob/main/predictive_keyboard_ngrambase.ipynb\" target=\"_parent\"><img src=\"https://colab.research.google.com/assets/colab-badge.svg\" alt=\"Open In Colab\"/></a>"
      ]
    },
    {
      "cell_type": "markdown",
      "source": [
        "# LOAD DATA"
      ],
      "metadata": {
        "id": "uE5vYdTaVx2u"
      }
    },
    {
      "cell_type": "code",
      "source": [
        "!pip install --upgrade --no-cache-dir gdown"
      ],
      "metadata": {
        "colab": {
          "base_uri": "https://localhost:8080/"
        },
        "id": "7dco4ZGHa4-L",
        "outputId": "088daf79-79ab-43f6-a77a-bec2785f9443"
      },
      "execution_count": null,
      "outputs": [
        {
          "output_type": "stream",
          "name": "stdout",
          "text": [
            "Looking in indexes: https://pypi.org/simple, https://us-python.pkg.dev/colab-wheels/public/simple/\n",
            "Requirement already satisfied: gdown in /usr/local/lib/python3.9/dist-packages (4.4.0)\n",
            "Collecting gdown\n",
            "  Downloading gdown-4.6.4-py3-none-any.whl (14 kB)\n",
            "Requirement already satisfied: requests[socks] in /usr/local/lib/python3.9/dist-packages (from gdown) (2.25.1)\n",
            "Requirement already satisfied: tqdm in /usr/local/lib/python3.9/dist-packages (from gdown) (4.65.0)\n",
            "Requirement already satisfied: beautifulsoup4 in /usr/local/lib/python3.9/dist-packages (from gdown) (4.9.3)\n",
            "Requirement already satisfied: six in /usr/local/lib/python3.9/dist-packages (from gdown) (1.15.0)\n",
            "Requirement already satisfied: filelock in /usr/local/lib/python3.9/dist-packages (from gdown) (3.9.0)\n",
            "Requirement already satisfied: soupsieve>1.2 in /usr/local/lib/python3.9/dist-packages (from beautifulsoup4->gdown) (2.4)\n",
            "Requirement already satisfied: idna<3,>=2.5 in /usr/local/lib/python3.9/dist-packages (from requests[socks]->gdown) (2.10)\n",
            "Requirement already satisfied: chardet<5,>=3.0.2 in /usr/local/lib/python3.9/dist-packages (from requests[socks]->gdown) (4.0.0)\n",
            "Requirement already satisfied: certifi>=2017.4.17 in /usr/local/lib/python3.9/dist-packages (from requests[socks]->gdown) (2022.12.7)\n",
            "Requirement already satisfied: urllib3<1.27,>=1.21.1 in /usr/local/lib/python3.9/dist-packages (from requests[socks]->gdown) (1.26.14)\n",
            "Requirement already satisfied: PySocks!=1.5.7,>=1.5.6 in /usr/local/lib/python3.9/dist-packages (from requests[socks]->gdown) (1.7.1)\n",
            "Installing collected packages: gdown\n",
            "  Attempting uninstall: gdown\n",
            "    Found existing installation: gdown 4.4.0\n",
            "    Uninstalling gdown-4.4.0:\n",
            "      Successfully uninstalled gdown-4.4.0\n",
            "Successfully installed gdown-4.6.4\n"
          ]
        }
      ]
    },
    {
      "cell_type": "code",
      "execution_count": null,
      "metadata": {
        "id": "w51iEqGbYC7J",
        "colab": {
          "base_uri": "https://localhost:8080/"
        },
        "outputId": "54d0255b-f75c-41a1-8fa2-25d028d44f4e"
      },
      "outputs": [
        {
          "output_type": "stream",
          "name": "stdout",
          "text": [
            "Downloading...\n",
            "From: https://drive.google.com/uc?id=1RF697A7FCVvdbYtXGrmzupq04FluQh_f\n",
            "To: /content/train.src.tok\n",
            "100% 704M/704M [00:06<00:00, 115MB/s]\n"
          ]
        }
      ],
      "source": [
        "!gdown 1RF697A7FCVvdbYtXGrmzupq04FluQh_f"
      ]
    },
    {
      "cell_type": "code",
      "source": [
        "!gdown 17upH5GLwuKJ3sZEzW0Zzdz63bkKw_V8Y"
      ],
      "metadata": {
        "colab": {
          "base_uri": "https://localhost:8080/"
        },
        "id": "OMVNJAeSi4lK",
        "outputId": "fcc5249b-d684-4f15-f969-601d55f6cec6"
      },
      "execution_count": null,
      "outputs": [
        {
          "output_type": "stream",
          "name": "stdout",
          "text": [
            "Downloading...\n",
            "From: https://drive.google.com/uc?id=17upH5GLwuKJ3sZEzW0Zzdz63bkKw_V8Y\n",
            "To: /content/dev_set.csv\n",
            "\r  0% 0.00/14.0M [00:00<?, ?B/s]\r 34% 4.72M/14.0M [00:00<00:00, 40.6MB/s]\r100% 14.0M/14.0M [00:00<00:00, 89.9MB/s]\n"
          ]
        }
      ]
    },
    {
      "cell_type": "code",
      "source": [
        "import pandas as pd\n",
        "data = pd.read_csv('dev_set.csv')\n",
        "\n",
        "data"
      ],
      "metadata": {
        "colab": {
          "base_uri": "https://localhost:8080/",
          "height": 419
        },
        "id": "mrNVCzzSjLl6",
        "outputId": "544902fa-bc34-48c0-c9e4-54581e916ef5"
      },
      "execution_count": null,
      "outputs": [
        {
          "output_type": "execute_result",
          "data": {
            "text/plain": [
              "                                                 context first letter  \\\n",
              "0      south korea and the united states on monday wa...            d   \n",
              "1      after agreeing to drastically cut its car impo...            t   \n",
              "2      three soldiers were injured in a bombing ambus...            m   \n",
              "3      an aviation official says a yemeni investigati...            w   \n",
              "4      the movement for democracy in liberia - lrb - ...            t   \n",
              "...                                                  ...          ...   \n",
              "94820  steady rates make it easier to predict when [U...            \"   \n",
              "94821  television shows in which homemade robots batt...            h   \n",
              "94822  china has enacted an updated bankruptcy law th...            f   \n",
              "94823  arthur andersen ' s defense team friday seemed...            a   \n",
              "94824  the man in teal sweat pants lay in the water f...            e   \n",
              "\n",
              "         answer  \n",
              "0           day  \n",
              "1           the  \n",
              "2       morning  \n",
              "3           was  \n",
              "4            to  \n",
              "...         ...  \n",
              "94820         \"  \n",
              "94821      have  \n",
              "94822       for  \n",
              "94823         a  \n",
              "94824  extended  \n",
              "\n",
              "[94825 rows x 3 columns]"
            ],
            "text/html": [
              "\n",
              "  <div id=\"df-e96c0373-b6d2-4b5d-b985-df6d3921cdb1\">\n",
              "    <div class=\"colab-df-container\">\n",
              "      <div>\n",
              "<style scoped>\n",
              "    .dataframe tbody tr th:only-of-type {\n",
              "        vertical-align: middle;\n",
              "    }\n",
              "\n",
              "    .dataframe tbody tr th {\n",
              "        vertical-align: top;\n",
              "    }\n",
              "\n",
              "    .dataframe thead th {\n",
              "        text-align: right;\n",
              "    }\n",
              "</style>\n",
              "<table border=\"1\" class=\"dataframe\">\n",
              "  <thead>\n",
              "    <tr style=\"text-align: right;\">\n",
              "      <th></th>\n",
              "      <th>context</th>\n",
              "      <th>first letter</th>\n",
              "      <th>answer</th>\n",
              "    </tr>\n",
              "  </thead>\n",
              "  <tbody>\n",
              "    <tr>\n",
              "      <th>0</th>\n",
              "      <td>south korea and the united states on monday wa...</td>\n",
              "      <td>d</td>\n",
              "      <td>day</td>\n",
              "    </tr>\n",
              "    <tr>\n",
              "      <th>1</th>\n",
              "      <td>after agreeing to drastically cut its car impo...</td>\n",
              "      <td>t</td>\n",
              "      <td>the</td>\n",
              "    </tr>\n",
              "    <tr>\n",
              "      <th>2</th>\n",
              "      <td>three soldiers were injured in a bombing ambus...</td>\n",
              "      <td>m</td>\n",
              "      <td>morning</td>\n",
              "    </tr>\n",
              "    <tr>\n",
              "      <th>3</th>\n",
              "      <td>an aviation official says a yemeni investigati...</td>\n",
              "      <td>w</td>\n",
              "      <td>was</td>\n",
              "    </tr>\n",
              "    <tr>\n",
              "      <th>4</th>\n",
              "      <td>the movement for democracy in liberia - lrb - ...</td>\n",
              "      <td>t</td>\n",
              "      <td>to</td>\n",
              "    </tr>\n",
              "    <tr>\n",
              "      <th>...</th>\n",
              "      <td>...</td>\n",
              "      <td>...</td>\n",
              "      <td>...</td>\n",
              "    </tr>\n",
              "    <tr>\n",
              "      <th>94820</th>\n",
              "      <td>steady rates make it easier to predict when [U...</td>\n",
              "      <td>\"</td>\n",
              "      <td>\"</td>\n",
              "    </tr>\n",
              "    <tr>\n",
              "      <th>94821</th>\n",
              "      <td>television shows in which homemade robots batt...</td>\n",
              "      <td>h</td>\n",
              "      <td>have</td>\n",
              "    </tr>\n",
              "    <tr>\n",
              "      <th>94822</th>\n",
              "      <td>china has enacted an updated bankruptcy law th...</td>\n",
              "      <td>f</td>\n",
              "      <td>for</td>\n",
              "    </tr>\n",
              "    <tr>\n",
              "      <th>94823</th>\n",
              "      <td>arthur andersen ' s defense team friday seemed...</td>\n",
              "      <td>a</td>\n",
              "      <td>a</td>\n",
              "    </tr>\n",
              "    <tr>\n",
              "      <th>94824</th>\n",
              "      <td>the man in teal sweat pants lay in the water f...</td>\n",
              "      <td>e</td>\n",
              "      <td>extended</td>\n",
              "    </tr>\n",
              "  </tbody>\n",
              "</table>\n",
              "<p>94825 rows × 3 columns</p>\n",
              "</div>\n",
              "      <button class=\"colab-df-convert\" onclick=\"convertToInteractive('df-e96c0373-b6d2-4b5d-b985-df6d3921cdb1')\"\n",
              "              title=\"Convert this dataframe to an interactive table.\"\n",
              "              style=\"display:none;\">\n",
              "        \n",
              "  <svg xmlns=\"http://www.w3.org/2000/svg\" height=\"24px\"viewBox=\"0 0 24 24\"\n",
              "       width=\"24px\">\n",
              "    <path d=\"M0 0h24v24H0V0z\" fill=\"none\"/>\n",
              "    <path d=\"M18.56 5.44l.94 2.06.94-2.06 2.06-.94-2.06-.94-.94-2.06-.94 2.06-2.06.94zm-11 1L8.5 8.5l.94-2.06 2.06-.94-2.06-.94L8.5 2.5l-.94 2.06-2.06.94zm10 10l.94 2.06.94-2.06 2.06-.94-2.06-.94-.94-2.06-.94 2.06-2.06.94z\"/><path d=\"M17.41 7.96l-1.37-1.37c-.4-.4-.92-.59-1.43-.59-.52 0-1.04.2-1.43.59L10.3 9.45l-7.72 7.72c-.78.78-.78 2.05 0 2.83L4 21.41c.39.39.9.59 1.41.59.51 0 1.02-.2 1.41-.59l7.78-7.78 2.81-2.81c.8-.78.8-2.07 0-2.86zM5.41 20L4 18.59l7.72-7.72 1.47 1.35L5.41 20z\"/>\n",
              "  </svg>\n",
              "      </button>\n",
              "      \n",
              "  <style>\n",
              "    .colab-df-container {\n",
              "      display:flex;\n",
              "      flex-wrap:wrap;\n",
              "      gap: 12px;\n",
              "    }\n",
              "\n",
              "    .colab-df-convert {\n",
              "      background-color: #E8F0FE;\n",
              "      border: none;\n",
              "      border-radius: 50%;\n",
              "      cursor: pointer;\n",
              "      display: none;\n",
              "      fill: #1967D2;\n",
              "      height: 32px;\n",
              "      padding: 0 0 0 0;\n",
              "      width: 32px;\n",
              "    }\n",
              "\n",
              "    .colab-df-convert:hover {\n",
              "      background-color: #E2EBFA;\n",
              "      box-shadow: 0px 1px 2px rgba(60, 64, 67, 0.3), 0px 1px 3px 1px rgba(60, 64, 67, 0.15);\n",
              "      fill: #174EA6;\n",
              "    }\n",
              "\n",
              "    [theme=dark] .colab-df-convert {\n",
              "      background-color: #3B4455;\n",
              "      fill: #D2E3FC;\n",
              "    }\n",
              "\n",
              "    [theme=dark] .colab-df-convert:hover {\n",
              "      background-color: #434B5C;\n",
              "      box-shadow: 0px 1px 3px 1px rgba(0, 0, 0, 0.15);\n",
              "      filter: drop-shadow(0px 1px 2px rgba(0, 0, 0, 0.3));\n",
              "      fill: #FFFFFF;\n",
              "    }\n",
              "  </style>\n",
              "\n",
              "      <script>\n",
              "        const buttonEl =\n",
              "          document.querySelector('#df-e96c0373-b6d2-4b5d-b985-df6d3921cdb1 button.colab-df-convert');\n",
              "        buttonEl.style.display =\n",
              "          google.colab.kernel.accessAllowed ? 'block' : 'none';\n",
              "\n",
              "        async function convertToInteractive(key) {\n",
              "          const element = document.querySelector('#df-e96c0373-b6d2-4b5d-b985-df6d3921cdb1');\n",
              "          const dataTable =\n",
              "            await google.colab.kernel.invokeFunction('convertToInteractive',\n",
              "                                                     [key], {});\n",
              "          if (!dataTable) return;\n",
              "\n",
              "          const docLinkHtml = 'Like what you see? Visit the ' +\n",
              "            '<a target=\"_blank\" href=https://colab.research.google.com/notebooks/data_table.ipynb>data table notebook</a>'\n",
              "            + ' to learn more about interactive tables.';\n",
              "          element.innerHTML = '';\n",
              "          dataTable['output_type'] = 'display_data';\n",
              "          await google.colab.output.renderOutput(dataTable, element);\n",
              "          const docLink = document.createElement('div');\n",
              "          docLink.innerHTML = docLinkHtml;\n",
              "          element.appendChild(docLink);\n",
              "        }\n",
              "      </script>\n",
              "    </div>\n",
              "  </div>\n",
              "  "
            ]
          },
          "metadata": {},
          "execution_count": 4
        }
      ]
    },
    {
      "cell_type": "code",
      "source": [
        "dev_context = data['context'].to_list()\n",
        "first_letters = data['first letter'].to_list()\n",
        "dev_ans = data['answer'].to_list()"
      ],
      "metadata": {
        "id": "ProATNmTZ6aE"
      },
      "execution_count": null,
      "outputs": []
    },
    {
      "cell_type": "markdown",
      "source": [
        "#TRIGRAM"
      ],
      "metadata": {
        "id": "q-ocRtLbV5wk"
      }
    },
    {
      "cell_type": "code",
      "source": [
        "from collections import Counter"
      ],
      "metadata": {
        "id": "2O5Ri8TNWHlL"
      },
      "execution_count": null,
      "outputs": []
    },
    {
      "cell_type": "code",
      "source": [
        "with open('train.src.tok', 'r') as f:\n",
        "    training_data = f.read().split('\\n')"
      ],
      "metadata": {
        "id": "b__3kJ9yW9bP"
      },
      "execution_count": null,
      "outputs": []
    },
    {
      "cell_type": "code",
      "source": [
        "sentences = [s.split(' ') for s in training_data[:5000000]]"
      ],
      "metadata": {
        "id": "sHNQe3roYxtS"
      },
      "execution_count": null,
      "outputs": []
    },
    {
      "cell_type": "code",
      "source": [
        "counter = {}"
      ],
      "metadata": {
        "id": "oHt75n8ks2go"
      },
      "execution_count": null,
      "outputs": []
    },
    {
      "cell_type": "code",
      "source": [
        "for tokens in sentences:\n",
        "    for i in range(len(tokens)- 3 - 1):\n",
        "      context = tuple(tokens[i:(i+3-1)])\n",
        "      word = tokens[(i+3-1)]\n",
        "      if context not in counter:\n",
        "        counter[context] = Counter()\n",
        "      counter[context][word] += 1"
      ],
      "metadata": {
        "id": "DhBqkijKV-RF"
      },
      "execution_count": null,
      "outputs": []
    },
    {
      "cell_type": "code",
      "source": [
        "context_list = []\n",
        "for sentence in dev_context:\n",
        "  tk = sentence.split()\n",
        "  ct = tuple(tk[-2:])\n",
        "  context_list.append(ct)"
      ],
      "metadata": {
        "id": "Zi96wci4yxfZ"
      },
      "execution_count": null,
      "outputs": []
    },
    {
      "cell_type": "code",
      "source": [
        "pred_word = []\n",
        "\n",
        "for i in range(len(context_list)):\n",
        "    if context_list[i] not in counter:\n",
        "        pred_word.append('')\n",
        "        continue\n",
        "\n",
        "    counters = counter[context_list[i]].most_common()\n",
        "    for word, count in counters:\n",
        "        if word[0] == first_letters[i]:\n",
        "            pred_word.append(word)\n",
        "            break\n",
        "    else:\n",
        "        pred_word.append('')\n",
        "\n",
        "pred_word"
      ],
      "metadata": {
        "id": "VCfd12sDNggb"
      },
      "execution_count": null,
      "outputs": []
    },
    {
      "cell_type": "code",
      "source": [
        "def accuracy(true_labels, predicted_labels):\n",
        "    \"\"\"\n",
        "    Computes the accuracy of predicted labels given the true labels.\n",
        "\n",
        "    Args:\n",
        "        true_labels (list): A list of true labels.\n",
        "        predicted_labels (list): A list of predicted labels.\n",
        "\n",
        "    Returns:\n",
        "        float: The accuracy of predicted labels, as a percentage.\n",
        "    \"\"\"\n",
        "    correct_count = 0\n",
        "    for i in range(len(true_labels)):\n",
        "        if true_labels[i] == predicted_labels[i]:\n",
        "            correct_count += 1\n",
        "    acc = correct_count / len(true_labels) * 100\n",
        "    return acc"
      ],
      "metadata": {
        "id": "uAkx4BAnJ_4c"
      },
      "execution_count": null,
      "outputs": []
    },
    {
      "cell_type": "code",
      "source": [
        "acc = accuracy(dev_ans, pred_word)\n",
        "print(f\"Accuracy: {acc:.2f}%\")"
      ],
      "metadata": {
        "colab": {
          "base_uri": "https://localhost:8080/"
        },
        "id": "26JUZRAYPAjL",
        "outputId": "753582d8-4f56-4602-bce0-6b80883d6483"
      },
      "execution_count": null,
      "outputs": [
        {
          "output_type": "stream",
          "name": "stdout",
          "text": [
            "Accuracy: 35.20%\n"
          ]
        }
      ]
    },
    {
      "cell_type": "markdown",
      "source": [
        "#4-gram"
      ],
      "metadata": {
        "id": "xmcVTjAvbnL3"
      }
    },
    {
      "cell_type": "code",
      "source": [],
      "metadata": {
        "id": "LV4_SFW_bpwd"
      },
      "execution_count": null,
      "outputs": []
    },
    {
      "cell_type": "code",
      "source": [
        "from collections import Counter"
      ],
      "metadata": {
        "id": "7ca54J_Gbu3V"
      },
      "execution_count": null,
      "outputs": []
    },
    {
      "cell_type": "code",
      "source": [
        "with open('train.src.tok', 'r') as f:\n",
        "    training_data = f.read().split('\\n')"
      ],
      "metadata": {
        "id": "ZdXpAh7zbu3X"
      },
      "execution_count": null,
      "outputs": []
    },
    {
      "cell_type": "code",
      "source": [
        "sentences4g = [s.split(' ') for s in training_data[:1000000]]"
      ],
      "metadata": {
        "id": "0FKvhFBXbu3Y"
      },
      "execution_count": null,
      "outputs": []
    },
    {
      "cell_type": "code",
      "source": [
        "counter = {}"
      ],
      "metadata": {
        "id": "Cjzzdj5Jbu3Y"
      },
      "execution_count": null,
      "outputs": []
    },
    {
      "cell_type": "code",
      "source": [
        "for tokens in sentences:\n",
        "    for i in range(len(tokens)- 3 - 1):\n",
        "      context = tuple(tokens[i:(i+3-1)])\n",
        "      word = tokens[(i+3-1)]\n",
        "      if context not in counter:\n",
        "        counter[context] = Counter()\n",
        "      counter[context][word] += 1"
      ],
      "metadata": {
        "id": "KD1-e3labu3Z"
      },
      "execution_count": null,
      "outputs": []
    },
    {
      "cell_type": "code",
      "source": [
        "context_list = []\n",
        "for sentence in dev_context:\n",
        "  tk = sentence.split()\n",
        "  ct = tuple(tk[-2:])\n",
        "  context_list.append(ct)"
      ],
      "metadata": {
        "id": "7M1rR1Ecbu3Z"
      },
      "execution_count": null,
      "outputs": []
    },
    {
      "cell_type": "code",
      "source": [
        "pred_word = []\n",
        "\n",
        "for i in range(len(context_list)):\n",
        "    if context_list[i] not in counter:\n",
        "        pred_word.append('')\n",
        "        continue\n",
        "\n",
        "    counters = counter[context_list[i]].most_common()\n",
        "    for word, count in counters:\n",
        "        if word[0] == first_letters[i]:\n",
        "            pred_word.append(word)\n",
        "            break\n",
        "    else:\n",
        "        pred_word.append('')\n",
        "\n",
        "pred_word"
      ],
      "metadata": {
        "id": "504BLytPbu3Z"
      },
      "execution_count": null,
      "outputs": []
    },
    {
      "cell_type": "code",
      "source": [
        "def accuracy(true_labels, predicted_labels):\n",
        "    \"\"\"\n",
        "    Computes the accuracy of predicted labels given the true labels.\n",
        "\n",
        "    Args:\n",
        "        true_labels (list): A list of true labels.\n",
        "        predicted_labels (list): A list of predicted labels.\n",
        "\n",
        "    Returns:\n",
        "        float: The accuracy of predicted labels, as a percentage.\n",
        "    \"\"\"\n",
        "    correct_count = 0\n",
        "    for i in range(len(true_labels)):\n",
        "        if true_labels[i] == predicted_labels[i]:\n",
        "            correct_count += 1\n",
        "    acc = correct_count / len(true_labels) * 100\n",
        "    return acc"
      ],
      "metadata": {
        "id": "Ewmg0QMZbu3a"
      },
      "execution_count": null,
      "outputs": []
    },
    {
      "cell_type": "code",
      "source": [
        "acc = accuracy(dev_ans, pred_word)\n",
        "print(f\"Accuracy: {acc:.2f}%\")"
      ],
      "metadata": {
        "colab": {
          "base_uri": "https://localhost:8080/"
        },
        "outputId": "753582d8-4f56-4602-bce0-6b80883d6483",
        "id": "qpnEePbDbu3a"
      },
      "execution_count": null,
      "outputs": [
        {
          "output_type": "stream",
          "name": "stdout",
          "text": [
            "Accuracy: 35.20%\n"
          ]
        }
      ]
    }
  ]
}