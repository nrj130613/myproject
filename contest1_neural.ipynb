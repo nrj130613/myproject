{
  "cells": [
    {
      "cell_type": "markdown",
      "metadata": {
        "id": "32JTp13IiaoW"
      },
      "source": [
        "# Neural Network Basics\n",
        "\n",
        "* Feedforward neural network\n",
        "* Training neural networks effectively"
      ]
    },
    {
      "cell_type": "code",
      "execution_count": null,
      "metadata": {
        "id": "RSjc_r7kFeDz"
      },
      "outputs": [],
      "source": [
        "import numpy as np\n",
        "import pandas as pd\n",
        "from numpy.linalg import norm\n",
        "from sklearn.metrics import classification_report, confusion_matrix\n",
        "from IPython.display import Image, display_png\n",
        "from gensim.models import word2vec, KeyedVectors\n",
        "from keras.models import Sequential\n",
        "from keras.layers import (\n",
        "    Input, Embedding, Dense, Dropout, Flatten, GlobalAveragePooling1D, Conv1D, GlobalMaxPooling1D, BatchNormalization\n",
        ")\n",
        "from keras.utils import to_categorical, plot_model, pad_sequences\n",
        "from keras.optimizers import RMSprop\n",
        "import matplotlib.pyplot as plt\n",
        "plt.style.use('ggplot')\n",
        "\n",
        "from keras.models import Sequential\n",
        "from keras.optimizers import Adam"
      ]
    },
    {
      "cell_type": "code",
      "source": [
        "#import for optimizer\n",
        "from tensorflow.keras import layers\n",
        "from tensorflow.keras import regularizers\n",
        "from keras import optimizers"
      ],
      "metadata": {
        "id": "R8JmxLMDia89"
      },
      "execution_count": null,
      "outputs": []
    },
    {
      "cell_type": "markdown",
      "metadata": {
        "id": "eg3TU1oXbgIA"
      },
      "source": [
        "# Feedforward Neural Network"
      ]
    },
    {
      "cell_type": "markdown",
      "metadata": {
        "id": "oPGr7eKRiapV"
      },
      "source": [
        "## 1. Load up data"
      ]
    },
    {
      "cell_type": "code",
      "execution_count": null,
      "metadata": {
        "id": "HZywB5Phbffl",
        "colab": {
          "base_uri": "https://localhost:8080/",
          "height": 419
        },
        "outputId": "fa0611f3-6565-4fb2-bd63-e273fda25e39"
      },
      "outputs": [
        {
          "output_type": "execute_result",
          "data": {
            "text/plain": [
              "        id                                               text  \\\n",
              "0     3121               But the staff was so horrible to us.   \n",
              "1     2777  To be completely fair, the only redeeming fact...   \n",
              "2     2777  To be completely fair, the only redeeming fact...   \n",
              "3     1634  The food is uniformly exceptional, with a very...   \n",
              "4     2534  Where Gabriela personaly greets you and recomm...   \n",
              "...    ...                                                ...   \n",
              "3151  2853  I would highly recommend this place to everyon...   \n",
              "3152  1163                          The service is fantastic.   \n",
              "3153   216  I recommend that you try this hidden spot whic...   \n",
              "3154  1109  The garlic mashed potatoes are hands down the ...   \n",
              "3155   899                         Food and service was okay.   \n",
              "\n",
              "               aspectCategory  polarity  \n",
              "0                     service  negative  \n",
              "1                        food  positive  \n",
              "2     anecdotes/miscellaneous  negative  \n",
              "3                        food  positive  \n",
              "4                     service  positive  \n",
              "...                       ...       ...  \n",
              "3151  anecdotes/miscellaneous  positive  \n",
              "3152                  service  positive  \n",
              "3153  anecdotes/miscellaneous  positive  \n",
              "3154                     food  positive  \n",
              "3155                     food   neutral  \n",
              "\n",
              "[3156 rows x 4 columns]"
            ],
            "text/html": [
              "\n",
              "  <div id=\"df-f1358720-2ed9-4a51-8996-bd3fbde0365d\">\n",
              "    <div class=\"colab-df-container\">\n",
              "      <div>\n",
              "<style scoped>\n",
              "    .dataframe tbody tr th:only-of-type {\n",
              "        vertical-align: middle;\n",
              "    }\n",
              "\n",
              "    .dataframe tbody tr th {\n",
              "        vertical-align: top;\n",
              "    }\n",
              "\n",
              "    .dataframe thead th {\n",
              "        text-align: right;\n",
              "    }\n",
              "</style>\n",
              "<table border=\"1\" class=\"dataframe\">\n",
              "  <thead>\n",
              "    <tr style=\"text-align: right;\">\n",
              "      <th></th>\n",
              "      <th>id</th>\n",
              "      <th>text</th>\n",
              "      <th>aspectCategory</th>\n",
              "      <th>polarity</th>\n",
              "    </tr>\n",
              "  </thead>\n",
              "  <tbody>\n",
              "    <tr>\n",
              "      <th>0</th>\n",
              "      <td>3121</td>\n",
              "      <td>But the staff was so horrible to us.</td>\n",
              "      <td>service</td>\n",
              "      <td>negative</td>\n",
              "    </tr>\n",
              "    <tr>\n",
              "      <th>1</th>\n",
              "      <td>2777</td>\n",
              "      <td>To be completely fair, the only redeeming fact...</td>\n",
              "      <td>food</td>\n",
              "      <td>positive</td>\n",
              "    </tr>\n",
              "    <tr>\n",
              "      <th>2</th>\n",
              "      <td>2777</td>\n",
              "      <td>To be completely fair, the only redeeming fact...</td>\n",
              "      <td>anecdotes/miscellaneous</td>\n",
              "      <td>negative</td>\n",
              "    </tr>\n",
              "    <tr>\n",
              "      <th>3</th>\n",
              "      <td>1634</td>\n",
              "      <td>The food is uniformly exceptional, with a very...</td>\n",
              "      <td>food</td>\n",
              "      <td>positive</td>\n",
              "    </tr>\n",
              "    <tr>\n",
              "      <th>4</th>\n",
              "      <td>2534</td>\n",
              "      <td>Where Gabriela personaly greets you and recomm...</td>\n",
              "      <td>service</td>\n",
              "      <td>positive</td>\n",
              "    </tr>\n",
              "    <tr>\n",
              "      <th>...</th>\n",
              "      <td>...</td>\n",
              "      <td>...</td>\n",
              "      <td>...</td>\n",
              "      <td>...</td>\n",
              "    </tr>\n",
              "    <tr>\n",
              "      <th>3151</th>\n",
              "      <td>2853</td>\n",
              "      <td>I would highly recommend this place to everyon...</td>\n",
              "      <td>anecdotes/miscellaneous</td>\n",
              "      <td>positive</td>\n",
              "    </tr>\n",
              "    <tr>\n",
              "      <th>3152</th>\n",
              "      <td>1163</td>\n",
              "      <td>The service is fantastic.</td>\n",
              "      <td>service</td>\n",
              "      <td>positive</td>\n",
              "    </tr>\n",
              "    <tr>\n",
              "      <th>3153</th>\n",
              "      <td>216</td>\n",
              "      <td>I recommend that you try this hidden spot whic...</td>\n",
              "      <td>anecdotes/miscellaneous</td>\n",
              "      <td>positive</td>\n",
              "    </tr>\n",
              "    <tr>\n",
              "      <th>3154</th>\n",
              "      <td>1109</td>\n",
              "      <td>The garlic mashed potatoes are hands down the ...</td>\n",
              "      <td>food</td>\n",
              "      <td>positive</td>\n",
              "    </tr>\n",
              "    <tr>\n",
              "      <th>3155</th>\n",
              "      <td>899</td>\n",
              "      <td>Food and service was okay.</td>\n",
              "      <td>food</td>\n",
              "      <td>neutral</td>\n",
              "    </tr>\n",
              "  </tbody>\n",
              "</table>\n",
              "<p>3156 rows × 4 columns</p>\n",
              "</div>\n",
              "      <button class=\"colab-df-convert\" onclick=\"convertToInteractive('df-f1358720-2ed9-4a51-8996-bd3fbde0365d')\"\n",
              "              title=\"Convert this dataframe to an interactive table.\"\n",
              "              style=\"display:none;\">\n",
              "        \n",
              "  <svg xmlns=\"http://www.w3.org/2000/svg\" height=\"24px\"viewBox=\"0 0 24 24\"\n",
              "       width=\"24px\">\n",
              "    <path d=\"M0 0h24v24H0V0z\" fill=\"none\"/>\n",
              "    <path d=\"M18.56 5.44l.94 2.06.94-2.06 2.06-.94-2.06-.94-.94-2.06-.94 2.06-2.06.94zm-11 1L8.5 8.5l.94-2.06 2.06-.94-2.06-.94L8.5 2.5l-.94 2.06-2.06.94zm10 10l.94 2.06.94-2.06 2.06-.94-2.06-.94-.94-2.06-.94 2.06-2.06.94z\"/><path d=\"M17.41 7.96l-1.37-1.37c-.4-.4-.92-.59-1.43-.59-.52 0-1.04.2-1.43.59L10.3 9.45l-7.72 7.72c-.78.78-.78 2.05 0 2.83L4 21.41c.39.39.9.59 1.41.59.51 0 1.02-.2 1.41-.59l7.78-7.78 2.81-2.81c.8-.78.8-2.07 0-2.86zM5.41 20L4 18.59l7.72-7.72 1.47 1.35L5.41 20z\"/>\n",
              "  </svg>\n",
              "      </button>\n",
              "      \n",
              "  <style>\n",
              "    .colab-df-container {\n",
              "      display:flex;\n",
              "      flex-wrap:wrap;\n",
              "      gap: 12px;\n",
              "    }\n",
              "\n",
              "    .colab-df-convert {\n",
              "      background-color: #E8F0FE;\n",
              "      border: none;\n",
              "      border-radius: 50%;\n",
              "      cursor: pointer;\n",
              "      display: none;\n",
              "      fill: #1967D2;\n",
              "      height: 32px;\n",
              "      padding: 0 0 0 0;\n",
              "      width: 32px;\n",
              "    }\n",
              "\n",
              "    .colab-df-convert:hover {\n",
              "      background-color: #E2EBFA;\n",
              "      box-shadow: 0px 1px 2px rgba(60, 64, 67, 0.3), 0px 1px 3px 1px rgba(60, 64, 67, 0.15);\n",
              "      fill: #174EA6;\n",
              "    }\n",
              "\n",
              "    [theme=dark] .colab-df-convert {\n",
              "      background-color: #3B4455;\n",
              "      fill: #D2E3FC;\n",
              "    }\n",
              "\n",
              "    [theme=dark] .colab-df-convert:hover {\n",
              "      background-color: #434B5C;\n",
              "      box-shadow: 0px 1px 3px 1px rgba(0, 0, 0, 0.15);\n",
              "      filter: drop-shadow(0px 1px 2px rgba(0, 0, 0, 0.3));\n",
              "      fill: #FFFFFF;\n",
              "    }\n",
              "  </style>\n",
              "\n",
              "      <script>\n",
              "        const buttonEl =\n",
              "          document.querySelector('#df-f1358720-2ed9-4a51-8996-bd3fbde0365d button.colab-df-convert');\n",
              "        buttonEl.style.display =\n",
              "          google.colab.kernel.accessAllowed ? 'block' : 'none';\n",
              "\n",
              "        async function convertToInteractive(key) {\n",
              "          const element = document.querySelector('#df-f1358720-2ed9-4a51-8996-bd3fbde0365d');\n",
              "          const dataTable =\n",
              "            await google.colab.kernel.invokeFunction('convertToInteractive',\n",
              "                                                     [key], {});\n",
              "          if (!dataTable) return;\n",
              "\n",
              "          const docLinkHtml = 'Like what you see? Visit the ' +\n",
              "            '<a target=\"_blank\" href=https://colab.research.google.com/notebooks/data_table.ipynb>data table notebook</a>'\n",
              "            + ' to learn more about interactive tables.';\n",
              "          element.innerHTML = '';\n",
              "          dataTable['output_type'] = 'display_data';\n",
              "          await google.colab.output.renderOutput(dataTable, element);\n",
              "          const docLink = document.createElement('div');\n",
              "          docLink.innerHTML = docLinkHtml;\n",
              "          element.appendChild(docLink);\n",
              "        }\n",
              "      </script>\n",
              "    </div>\n",
              "  </div>\n",
              "  "
            ]
          },
          "metadata": {},
          "execution_count": 3
        }
      ],
      "source": [
        "# load data\n",
        "data = pd.read_csv('contest1_train.csv', encoding='utf-8')\n",
        "\n",
        "# show data\n",
        "data"
      ]
    },
    {
      "cell_type": "code",
      "source": [
        "import nltk\n",
        "nltk.download('punkt')\n",
        "\n",
        "data['tokenized'] = data['text'].apply(lambda x: '|'.join(nltk.word_tokenize(x)))\n",
        "data['length'] = data['tokenized'].apply(lambda x: x.count('|'))\n",
        "\n",
        "data"
      ],
      "metadata": {
        "colab": {
          "base_uri": "https://localhost:8080/",
          "height": 616
        },
        "id": "7I-DooV80LCw",
        "outputId": "3a32dcbc-baa1-473b-89b6-7d508a3948d3"
      },
      "execution_count": null,
      "outputs": [
        {
          "output_type": "stream",
          "name": "stderr",
          "text": [
            "[nltk_data] Downloading package punkt to /root/nltk_data...\n",
            "[nltk_data]   Unzipping tokenizers/punkt.zip.\n"
          ]
        },
        {
          "output_type": "execute_result",
          "data": {
            "text/plain": [
              "        id                                               text  \\\n",
              "0     3121               But the staff was so horrible to us.   \n",
              "1     2777  To be completely fair, the only redeeming fact...   \n",
              "2     2777  To be completely fair, the only redeeming fact...   \n",
              "3     1634  The food is uniformly exceptional, with a very...   \n",
              "4     2534  Where Gabriela personaly greets you and recomm...   \n",
              "...    ...                                                ...   \n",
              "3151  2853  I would highly recommend this place to everyon...   \n",
              "3152  1163                          The service is fantastic.   \n",
              "3153   216  I recommend that you try this hidden spot whic...   \n",
              "3154  1109  The garlic mashed potatoes are hands down the ...   \n",
              "3155   899                         Food and service was okay.   \n",
              "\n",
              "               aspectCategory  polarity  \\\n",
              "0                     service  negative   \n",
              "1                        food  positive   \n",
              "2     anecdotes/miscellaneous  negative   \n",
              "3                        food  positive   \n",
              "4                     service  positive   \n",
              "...                       ...       ...   \n",
              "3151  anecdotes/miscellaneous  positive   \n",
              "3152                  service  positive   \n",
              "3153  anecdotes/miscellaneous  positive   \n",
              "3154                     food  positive   \n",
              "3155                     food   neutral   \n",
              "\n",
              "                                              tokenized  length  \n",
              "0                 But|the|staff|was|so|horrible|to|us|.       8  \n",
              "1     To|be|completely|fair|,|the|only|redeeming|fac...      30  \n",
              "2     To|be|completely|fair|,|the|only|redeeming|fac...      30  \n",
              "3     The|food|is|uniformly|exceptional|,|with|a|ver...      30  \n",
              "4     Where|Gabriela|personaly|greets|you|and|recomm...      11  \n",
              "...                                                 ...     ...  \n",
              "3151  I|would|highly|recommend|this|place|to|everyon...      11  \n",
              "3152                         The|service|is|fantastic|.       4  \n",
              "3153  I|recommend|that|you|try|this|hidden|spot|whic...      13  \n",
              "3154  The|garlic|mashed|potatoes|are|hands|down|the|...      12  \n",
              "3155                        Food|and|service|was|okay|.       5  \n",
              "\n",
              "[3156 rows x 6 columns]"
            ],
            "text/html": [
              "\n",
              "  <div id=\"df-5a65c495-013c-4718-80ef-20d019ecf885\">\n",
              "    <div class=\"colab-df-container\">\n",
              "      <div>\n",
              "<style scoped>\n",
              "    .dataframe tbody tr th:only-of-type {\n",
              "        vertical-align: middle;\n",
              "    }\n",
              "\n",
              "    .dataframe tbody tr th {\n",
              "        vertical-align: top;\n",
              "    }\n",
              "\n",
              "    .dataframe thead th {\n",
              "        text-align: right;\n",
              "    }\n",
              "</style>\n",
              "<table border=\"1\" class=\"dataframe\">\n",
              "  <thead>\n",
              "    <tr style=\"text-align: right;\">\n",
              "      <th></th>\n",
              "      <th>id</th>\n",
              "      <th>text</th>\n",
              "      <th>aspectCategory</th>\n",
              "      <th>polarity</th>\n",
              "      <th>tokenized</th>\n",
              "      <th>length</th>\n",
              "    </tr>\n",
              "  </thead>\n",
              "  <tbody>\n",
              "    <tr>\n",
              "      <th>0</th>\n",
              "      <td>3121</td>\n",
              "      <td>But the staff was so horrible to us.</td>\n",
              "      <td>service</td>\n",
              "      <td>negative</td>\n",
              "      <td>But|the|staff|was|so|horrible|to|us|.</td>\n",
              "      <td>8</td>\n",
              "    </tr>\n",
              "    <tr>\n",
              "      <th>1</th>\n",
              "      <td>2777</td>\n",
              "      <td>To be completely fair, the only redeeming fact...</td>\n",
              "      <td>food</td>\n",
              "      <td>positive</td>\n",
              "      <td>To|be|completely|fair|,|the|only|redeeming|fac...</td>\n",
              "      <td>30</td>\n",
              "    </tr>\n",
              "    <tr>\n",
              "      <th>2</th>\n",
              "      <td>2777</td>\n",
              "      <td>To be completely fair, the only redeeming fact...</td>\n",
              "      <td>anecdotes/miscellaneous</td>\n",
              "      <td>negative</td>\n",
              "      <td>To|be|completely|fair|,|the|only|redeeming|fac...</td>\n",
              "      <td>30</td>\n",
              "    </tr>\n",
              "    <tr>\n",
              "      <th>3</th>\n",
              "      <td>1634</td>\n",
              "      <td>The food is uniformly exceptional, with a very...</td>\n",
              "      <td>food</td>\n",
              "      <td>positive</td>\n",
              "      <td>The|food|is|uniformly|exceptional|,|with|a|ver...</td>\n",
              "      <td>30</td>\n",
              "    </tr>\n",
              "    <tr>\n",
              "      <th>4</th>\n",
              "      <td>2534</td>\n",
              "      <td>Where Gabriela personaly greets you and recomm...</td>\n",
              "      <td>service</td>\n",
              "      <td>positive</td>\n",
              "      <td>Where|Gabriela|personaly|greets|you|and|recomm...</td>\n",
              "      <td>11</td>\n",
              "    </tr>\n",
              "    <tr>\n",
              "      <th>...</th>\n",
              "      <td>...</td>\n",
              "      <td>...</td>\n",
              "      <td>...</td>\n",
              "      <td>...</td>\n",
              "      <td>...</td>\n",
              "      <td>...</td>\n",
              "    </tr>\n",
              "    <tr>\n",
              "      <th>3151</th>\n",
              "      <td>2853</td>\n",
              "      <td>I would highly recommend this place to everyon...</td>\n",
              "      <td>anecdotes/miscellaneous</td>\n",
              "      <td>positive</td>\n",
              "      <td>I|would|highly|recommend|this|place|to|everyon...</td>\n",
              "      <td>11</td>\n",
              "    </tr>\n",
              "    <tr>\n",
              "      <th>3152</th>\n",
              "      <td>1163</td>\n",
              "      <td>The service is fantastic.</td>\n",
              "      <td>service</td>\n",
              "      <td>positive</td>\n",
              "      <td>The|service|is|fantastic|.</td>\n",
              "      <td>4</td>\n",
              "    </tr>\n",
              "    <tr>\n",
              "      <th>3153</th>\n",
              "      <td>216</td>\n",
              "      <td>I recommend that you try this hidden spot whic...</td>\n",
              "      <td>anecdotes/miscellaneous</td>\n",
              "      <td>positive</td>\n",
              "      <td>I|recommend|that|you|try|this|hidden|spot|whic...</td>\n",
              "      <td>13</td>\n",
              "    </tr>\n",
              "    <tr>\n",
              "      <th>3154</th>\n",
              "      <td>1109</td>\n",
              "      <td>The garlic mashed potatoes are hands down the ...</td>\n",
              "      <td>food</td>\n",
              "      <td>positive</td>\n",
              "      <td>The|garlic|mashed|potatoes|are|hands|down|the|...</td>\n",
              "      <td>12</td>\n",
              "    </tr>\n",
              "    <tr>\n",
              "      <th>3155</th>\n",
              "      <td>899</td>\n",
              "      <td>Food and service was okay.</td>\n",
              "      <td>food</td>\n",
              "      <td>neutral</td>\n",
              "      <td>Food|and|service|was|okay|.</td>\n",
              "      <td>5</td>\n",
              "    </tr>\n",
              "  </tbody>\n",
              "</table>\n",
              "<p>3156 rows × 6 columns</p>\n",
              "</div>\n",
              "      <button class=\"colab-df-convert\" onclick=\"convertToInteractive('df-5a65c495-013c-4718-80ef-20d019ecf885')\"\n",
              "              title=\"Convert this dataframe to an interactive table.\"\n",
              "              style=\"display:none;\">\n",
              "        \n",
              "  <svg xmlns=\"http://www.w3.org/2000/svg\" height=\"24px\"viewBox=\"0 0 24 24\"\n",
              "       width=\"24px\">\n",
              "    <path d=\"M0 0h24v24H0V0z\" fill=\"none\"/>\n",
              "    <path d=\"M18.56 5.44l.94 2.06.94-2.06 2.06-.94-2.06-.94-.94-2.06-.94 2.06-2.06.94zm-11 1L8.5 8.5l.94-2.06 2.06-.94-2.06-.94L8.5 2.5l-.94 2.06-2.06.94zm10 10l.94 2.06.94-2.06 2.06-.94-2.06-.94-.94-2.06-.94 2.06-2.06.94z\"/><path d=\"M17.41 7.96l-1.37-1.37c-.4-.4-.92-.59-1.43-.59-.52 0-1.04.2-1.43.59L10.3 9.45l-7.72 7.72c-.78.78-.78 2.05 0 2.83L4 21.41c.39.39.9.59 1.41.59.51 0 1.02-.2 1.41-.59l7.78-7.78 2.81-2.81c.8-.78.8-2.07 0-2.86zM5.41 20L4 18.59l7.72-7.72 1.47 1.35L5.41 20z\"/>\n",
              "  </svg>\n",
              "      </button>\n",
              "      \n",
              "  <style>\n",
              "    .colab-df-container {\n",
              "      display:flex;\n",
              "      flex-wrap:wrap;\n",
              "      gap: 12px;\n",
              "    }\n",
              "\n",
              "    .colab-df-convert {\n",
              "      background-color: #E8F0FE;\n",
              "      border: none;\n",
              "      border-radius: 50%;\n",
              "      cursor: pointer;\n",
              "      display: none;\n",
              "      fill: #1967D2;\n",
              "      height: 32px;\n",
              "      padding: 0 0 0 0;\n",
              "      width: 32px;\n",
              "    }\n",
              "\n",
              "    .colab-df-convert:hover {\n",
              "      background-color: #E2EBFA;\n",
              "      box-shadow: 0px 1px 2px rgba(60, 64, 67, 0.3), 0px 1px 3px 1px rgba(60, 64, 67, 0.15);\n",
              "      fill: #174EA6;\n",
              "    }\n",
              "\n",
              "    [theme=dark] .colab-df-convert {\n",
              "      background-color: #3B4455;\n",
              "      fill: #D2E3FC;\n",
              "    }\n",
              "\n",
              "    [theme=dark] .colab-df-convert:hover {\n",
              "      background-color: #434B5C;\n",
              "      box-shadow: 0px 1px 3px 1px rgba(0, 0, 0, 0.15);\n",
              "      filter: drop-shadow(0px 1px 2px rgba(0, 0, 0, 0.3));\n",
              "      fill: #FFFFFF;\n",
              "    }\n",
              "  </style>\n",
              "\n",
              "      <script>\n",
              "        const buttonEl =\n",
              "          document.querySelector('#df-5a65c495-013c-4718-80ef-20d019ecf885 button.colab-df-convert');\n",
              "        buttonEl.style.display =\n",
              "          google.colab.kernel.accessAllowed ? 'block' : 'none';\n",
              "\n",
              "        async function convertToInteractive(key) {\n",
              "          const element = document.querySelector('#df-5a65c495-013c-4718-80ef-20d019ecf885');\n",
              "          const dataTable =\n",
              "            await google.colab.kernel.invokeFunction('convertToInteractive',\n",
              "                                                     [key], {});\n",
              "          if (!dataTable) return;\n",
              "\n",
              "          const docLinkHtml = 'Like what you see? Visit the ' +\n",
              "            '<a target=\"_blank\" href=https://colab.research.google.com/notebooks/data_table.ipynb>data table notebook</a>'\n",
              "            + ' to learn more about interactive tables.';\n",
              "          element.innerHTML = '';\n",
              "          dataTable['output_type'] = 'display_data';\n",
              "          await google.colab.output.renderOutput(dataTable, element);\n",
              "          const docLink = document.createElement('div');\n",
              "          docLink.innerHTML = docLinkHtml;\n",
              "          element.appendChild(docLink);\n",
              "        }\n",
              "      </script>\n",
              "    </div>\n",
              "  </div>\n",
              "  "
            ]
          },
          "metadata": {},
          "execution_count": 4
        }
      ]
    },
    {
      "cell_type": "markdown",
      "metadata": {
        "id": "l4WLsKCETJvn"
      },
      "source": [
        "ส่วนใหญ่มีแค่ 100 คำ ไม่ต้องใช้ทั้งหมด"
      ]
    },
    {
      "cell_type": "code",
      "execution_count": null,
      "metadata": {
        "id": "ihWLRrPf70m8",
        "colab": {
          "base_uri": "https://localhost:8080/"
        },
        "outputId": "f38c8000-0a8a-4aa5-cb71-807eb3f4bbcf"
      },
      "outputs": [
        {
          "output_type": "execute_result",
          "data": {
            "text/plain": [
              "count    3156.000000\n",
              "mean       15.386248\n",
              "std         9.030327\n",
              "min         1.000000\n",
              "25%         9.000000\n",
              "50%        14.000000\n",
              "75%        20.000000\n",
              "max        78.000000\n",
              "Name: length, dtype: float64"
            ]
          },
          "metadata": {},
          "execution_count": 20
        }
      ],
      "source": [
        "data.length.describe()"
      ]
    },
    {
      "cell_type": "code",
      "execution_count": null,
      "metadata": {
        "id": "mprXKCy37iOd"
      },
      "outputs": [],
      "source": [
        "#dev.length.describe()"
      ]
    },
    {
      "cell_type": "markdown",
      "metadata": {
        "id": "UALx_N6uiapr"
      },
      "source": [
        "## 2. Load up the pre-trained word embeddings"
      ]
    },
    {
      "cell_type": "code",
      "source": [
        "!wget http://nlp.stanford.edu/data/glove.6B.zip"
      ],
      "metadata": {
        "colab": {
          "base_uri": "https://localhost:8080/"
        },
        "id": "8mPsIGMGmscO",
        "outputId": "a889d484-52be-4b1f-c1f6-c08ffd36ddea"
      },
      "execution_count": null,
      "outputs": [
        {
          "output_type": "stream",
          "name": "stdout",
          "text": [
            "--2023-02-20 17:12:36--  http://nlp.stanford.edu/data/glove.6B.zip\n",
            "Resolving nlp.stanford.edu (nlp.stanford.edu)... 171.64.67.140\n",
            "Connecting to nlp.stanford.edu (nlp.stanford.edu)|171.64.67.140|:80... connected.\n",
            "HTTP request sent, awaiting response... 302 Found\n",
            "Location: https://nlp.stanford.edu/data/glove.6B.zip [following]\n",
            "--2023-02-20 17:12:36--  https://nlp.stanford.edu/data/glove.6B.zip\n",
            "Connecting to nlp.stanford.edu (nlp.stanford.edu)|171.64.67.140|:443... connected.\n",
            "HTTP request sent, awaiting response... 301 Moved Permanently\n",
            "Location: https://downloads.cs.stanford.edu/nlp/data/glove.6B.zip [following]\n",
            "--2023-02-20 17:12:37--  https://downloads.cs.stanford.edu/nlp/data/glove.6B.zip\n",
            "Resolving downloads.cs.stanford.edu (downloads.cs.stanford.edu)... 171.64.64.22\n",
            "Connecting to downloads.cs.stanford.edu (downloads.cs.stanford.edu)|171.64.64.22|:443... connected.\n",
            "HTTP request sent, awaiting response... 200 OK\n",
            "Length: 862182613 (822M) [application/zip]\n",
            "Saving to: ‘glove.6B.zip’\n",
            "\n",
            "glove.6B.zip        100%[===================>] 822.24M  5.02MB/s    in 2m 39s  \n",
            "\n",
            "2023-02-20 17:15:16 (5.17 MB/s) - ‘glove.6B.zip’ saved [862182613/862182613]\n",
            "\n"
          ]
        }
      ]
    },
    {
      "cell_type": "code",
      "source": [
        "!unzip glove*.zip"
      ],
      "metadata": {
        "colab": {
          "base_uri": "https://localhost:8080/"
        },
        "id": "HpBj_jeMmvd8",
        "outputId": "895b3191-7b75-4856-c061-9d1c92d33a50"
      },
      "execution_count": null,
      "outputs": [
        {
          "output_type": "stream",
          "name": "stdout",
          "text": [
            "Archive:  glove.6B.zip\n",
            "  inflating: glove.6B.50d.txt        \n",
            "  inflating: glove.6B.100d.txt       \n",
            "  inflating: glove.6B.200d.txt       \n",
            "  inflating: glove.6B.300d.txt       \n"
          ]
        }
      ]
    },
    {
      "cell_type": "code",
      "source": [
        "!pip install --upgrade --no-cache-dir gdown"
      ],
      "metadata": {
        "colab": {
          "base_uri": "https://localhost:8080/"
        },
        "id": "O4jRJlsMeKvs",
        "outputId": "5a6471e3-b4bc-4083-c369-a62483be6d2b"
      },
      "execution_count": null,
      "outputs": [
        {
          "output_type": "stream",
          "name": "stdout",
          "text": [
            "Looking in indexes: https://pypi.org/simple, https://us-python.pkg.dev/colab-wheels/public/simple/\n",
            "Requirement already satisfied: gdown in /usr/local/lib/python3.8/dist-packages (4.4.0)\n",
            "Collecting gdown\n",
            "  Downloading gdown-4.6.3-py3-none-any.whl (14 kB)\n",
            "Requirement already satisfied: beautifulsoup4 in /usr/local/lib/python3.8/dist-packages (from gdown) (4.6.3)\n",
            "Requirement already satisfied: tqdm in /usr/local/lib/python3.8/dist-packages (from gdown) (4.64.1)\n",
            "Requirement already satisfied: six in /usr/local/lib/python3.8/dist-packages (from gdown) (1.15.0)\n",
            "Requirement already satisfied: requests[socks] in /usr/local/lib/python3.8/dist-packages (from gdown) (2.25.1)\n",
            "Requirement already satisfied: filelock in /usr/local/lib/python3.8/dist-packages (from gdown) (3.9.0)\n",
            "Requirement already satisfied: certifi>=2017.4.17 in /usr/local/lib/python3.8/dist-packages (from requests[socks]->gdown) (2022.12.7)\n",
            "Requirement already satisfied: urllib3<1.27,>=1.21.1 in /usr/local/lib/python3.8/dist-packages (from requests[socks]->gdown) (1.24.3)\n",
            "Requirement already satisfied: idna<3,>=2.5 in /usr/local/lib/python3.8/dist-packages (from requests[socks]->gdown) (2.10)\n",
            "Requirement already satisfied: chardet<5,>=3.0.2 in /usr/local/lib/python3.8/dist-packages (from requests[socks]->gdown) (4.0.0)\n",
            "Requirement already satisfied: PySocks!=1.5.7,>=1.5.6 in /usr/local/lib/python3.8/dist-packages (from requests[socks]->gdown) (1.7.1)\n",
            "Installing collected packages: gdown\n",
            "  Attempting uninstall: gdown\n",
            "    Found existing installation: gdown 4.4.0\n",
            "    Uninstalling gdown-4.4.0:\n",
            "      Successfully uninstalled gdown-4.4.0\n",
            "Successfully installed gdown-4.6.3\n"
          ]
        }
      ]
    },
    {
      "cell_type": "code",
      "source": [
        "!pip install gdown\n",
        "!gdown https://drive.google.com/uc?id=1k5zNhHJnXukYCtHwqNSXmwaziOX8JosX"
      ],
      "metadata": {
        "colab": {
          "base_uri": "https://localhost:8080/"
        },
        "id": "4wuzemM_cM-N",
        "outputId": "f4fc2967-3fa8-4186-de2d-27bdc159c7f3"
      },
      "execution_count": null,
      "outputs": [
        {
          "output_type": "stream",
          "name": "stdout",
          "text": [
            "Looking in indexes: https://pypi.org/simple, https://us-python.pkg.dev/colab-wheels/public/simple/\n",
            "Requirement already satisfied: gdown in /usr/local/lib/python3.8/dist-packages (4.6.3)\n",
            "Requirement already satisfied: tqdm in /usr/local/lib/python3.8/dist-packages (from gdown) (4.64.1)\n",
            "Requirement already satisfied: six in /usr/local/lib/python3.8/dist-packages (from gdown) (1.15.0)\n",
            "Requirement already satisfied: beautifulsoup4 in /usr/local/lib/python3.8/dist-packages (from gdown) (4.6.3)\n",
            "Requirement already satisfied: requests[socks] in /usr/local/lib/python3.8/dist-packages (from gdown) (2.25.1)\n",
            "Requirement already satisfied: filelock in /usr/local/lib/python3.8/dist-packages (from gdown) (3.9.0)\n",
            "Requirement already satisfied: urllib3<1.27,>=1.21.1 in /usr/local/lib/python3.8/dist-packages (from requests[socks]->gdown) (1.24.3)\n",
            "Requirement already satisfied: certifi>=2017.4.17 in /usr/local/lib/python3.8/dist-packages (from requests[socks]->gdown) (2022.12.7)\n",
            "Requirement already satisfied: idna<3,>=2.5 in /usr/local/lib/python3.8/dist-packages (from requests[socks]->gdown) (2.10)\n",
            "Requirement already satisfied: chardet<5,>=3.0.2 in /usr/local/lib/python3.8/dist-packages (from requests[socks]->gdown) (4.0.0)\n",
            "Requirement already satisfied: PySocks!=1.5.7,>=1.5.6 in /usr/local/lib/python3.8/dist-packages (from requests[socks]->gdown) (1.7.1)\n",
            "Downloading...\n",
            "From: https://drive.google.com/uc?id=1k5zNhHJnXukYCtHwqNSXmwaziOX8JosX\n",
            "To: /content/glove.6B.100d.txt\n",
            "100% 347M/347M [00:01<00:00, 189MB/s]\n"
          ]
        }
      ]
    },
    {
      "cell_type": "code",
      "source": [
        "from gensim.test.utils import get_tmpfile\n",
        "from gensim.models import KeyedVectors\n",
        "from gensim.scripts.glove2word2vec import glove2word2vec\n",
        "\n",
        "# create temp file and save converted embedding into it\n",
        "target_file = get_tmpfile('glove.6B.200d.txt')\n",
        "glove2word2vec('glove.6B.200d.txt', target_file)\n",
        "\n",
        "# load the converted embedding into memory\n",
        "model = KeyedVectors.load_word2vec_format(target_file)\n",
        "\n",
        "# save as binary data\n",
        "model.save_word2vec_format('glove.6B.200d.bin', binary=True)"
      ],
      "metadata": {
        "id": "nnZBzVVpg3Ax"
      },
      "execution_count": null,
      "outputs": []
    },
    {
      "cell_type": "code",
      "source": [
        "#load word embedding and data\n",
        "w2v_model = KeyedVectors.load_word2vec_format('glove.6B.200d.bin',\n",
        "                                              binary=True, unicode_errors='ignore')"
      ],
      "metadata": {
        "id": "9OIuK02faNkn"
      },
      "execution_count": null,
      "outputs": []
    },
    {
      "cell_type": "code",
      "source": [
        "vocab_size = len(w2v_model.vocab)\n",
        "vector_dim = w2v_model.vector_size\n",
        "# make weight matrix of word embedding, vocab size + 1 (for padding)\n",
        "embedding_matrix = np.zeros((vocab_size+2, vector_dim), dtype=\"float32\")\n",
        "embedding_matrix[0] = np.zeros(vector_dim)\n",
        "\n",
        "word_to_index = {word:i+1 for i, word in enumerate(w2v_model.vocab)}\n",
        "# word to index dictionary, 0 for padding, UNKNOWN\n",
        "word_to_index['PADDING'] = 0\n",
        "word_to_index['<UNK>'] = len(word_to_index)\n",
        "\n",
        "for i, word in enumerate(w2v_model.vocab):\n",
        "    embedding_matrix[i+1] = w2v_model[word]"
      ],
      "metadata": {
        "id": "Yh1mG6I_hd4u"
      },
      "execution_count": null,
      "outputs": []
    },
    {
      "cell_type": "code",
      "execution_count": null,
      "metadata": {
        "colab": {
          "base_uri": "https://localhost:8080/"
        },
        "id": "KLTkeQWHbfbz",
        "outputId": "ee243fb0-8cb1-44be-fbe6-13dc96916442"
      },
      "outputs": [
        {
          "output_type": "stream",
          "name": "stdout",
          "text": [
            "vocab size: 400000\n"
          ]
        }
      ],
      "source": [
        "# vocabulary size of pre-trained model\n",
        "vocab_size = len(w2v_model.vocab)\n",
        "print('vocab size:', vocab_size)"
      ]
    },
    {
      "cell_type": "code",
      "source": [
        "# vector dimension\n",
        "vector_dim = (len(w2v_model['the']))\n",
        "print('vector dimension:', vector_dim)"
      ],
      "metadata": {
        "colab": {
          "base_uri": "https://localhost:8080/"
        },
        "id": "uO3vW8-LfDCe",
        "outputId": "66cab56a-f476-4147-8452-f6007bef48f7"
      },
      "execution_count": null,
      "outputs": [
        {
          "output_type": "stream",
          "name": "stdout",
          "text": [
            "vector dimension: 200\n"
          ]
        }
      ]
    },
    {
      "cell_type": "code",
      "source": [
        "# load data\n",
        "\n",
        "from sklearn.model_selection import train_test_split\n",
        "X = data.drop('aspectCategory', axis=1).values\n",
        "y = data['aspectCategory'].values\n",
        "# Assuming X contains the input features and y contains the corresponding labels\n",
        "# Split the data into training and testing sets\n",
        "train_x, test_x, train_y, test_y = train_test_split(X, y, test_size=0.2, random_state=42)\n",
        "\n",
        "# Split the training data into training and validation sets\n",
        "train_x, dev_x, train_y, dev_y = train_test_split(train_x, train_y, test_size=0.2, random_state=42)\n",
        "\n",
        "# Print the size of each subset\n",
        "print(f\"Training set size: {len(train_x)}\")\n",
        "print(f\"Validation set size: {len(dev_x)}\")\n",
        "print(f\"Test set size: {len(test_x)}\")\n"
      ],
      "metadata": {
        "colab": {
          "base_uri": "https://localhost:8080/"
        },
        "id": "ySL2tv45i_ed",
        "outputId": "cb870c16-9364-40aa-c419-592cdc29744f"
      },
      "execution_count": null,
      "outputs": [
        {
          "output_type": "stream",
          "name": "stdout",
          "text": [
            "Training set size: 2019\n",
            "Validation set size: 505\n",
            "Test set size: 632\n"
          ]
        }
      ]
    },
    {
      "cell_type": "code",
      "source": [
        "train, dev_test = train_test_split(data, train_size=0.8, random_state=42)\n",
        "dev, test = train_test_split(dev_test, test_size=0.2, random_state=42)\n",
        "\n",
        "print(f\"Training set size: {len(train)}\")\n",
        "print(f\"Validation set size: {len(dev)}\")\n",
        "print(f\"Test set size: {len(test)}\")"
      ],
      "metadata": {
        "colab": {
          "base_uri": "https://localhost:8080/"
        },
        "id": "HfVmqFxyr-9S",
        "outputId": "35b8db5e-69a1-4fc9-9e49-15459cc59750"
      },
      "execution_count": null,
      "outputs": [
        {
          "output_type": "stream",
          "name": "stdout",
          "text": [
            "Training set size: 2524\n",
            "Validation set size: 505\n",
            "Test set size: 127\n"
          ]
        }
      ]
    },
    {
      "cell_type": "code",
      "source": [
        "test['aspectCategory'].value_counts()"
      ],
      "metadata": {
        "colab": {
          "base_uri": "https://localhost:8080/"
        },
        "id": "OIY7hAd6rOWv",
        "outputId": "481b029c-08ed-44e1-8b4f-4cdb0a2bb20f"
      },
      "execution_count": null,
      "outputs": [
        {
          "output_type": "execute_result",
          "data": {
            "text/plain": [
              "food                       52\n",
              "anecdotes/miscellaneous    37\n",
              "ambience                   18\n",
              "service                    10\n",
              "price                      10\n",
              "Name: aspectCategory, dtype: int64"
            ]
          },
          "metadata": {},
          "execution_count": 18
        }
      ]
    },
    {
      "cell_type": "code",
      "source": [
        "test['polarity'].value_counts()"
      ],
      "metadata": {
        "colab": {
          "base_uri": "https://localhost:8080/"
        },
        "id": "QxLtfTEjtRSY",
        "outputId": "c8de42c2-9e2d-40a9-c9c7-de8965ba46ef"
      },
      "execution_count": null,
      "outputs": [
        {
          "output_type": "execute_result",
          "data": {
            "text/plain": [
              "positive    83\n",
              "negative    19\n",
              "neutral     19\n",
              "conflict     6\n",
              "Name: polarity, dtype: int64"
            ]
          },
          "metadata": {},
          "execution_count": 16
        }
      ]
    },
    {
      "cell_type": "code",
      "source": [],
      "metadata": {
        "id": "76yhbP_8tRK0"
      },
      "execution_count": null,
      "outputs": []
    },
    {
      "cell_type": "code",
      "source": [
        "test"
      ],
      "metadata": {
        "colab": {
          "base_uri": "https://localhost:8080/",
          "height": 419
        },
        "id": "ZKXRjrBesK1J",
        "outputId": "02db3341-0d26-44aa-aebd-bfb7abb201ad"
      },
      "execution_count": null,
      "outputs": [
        {
          "output_type": "execute_result",
          "data": {
            "text/plain": [
              "        id                                               text  \\\n",
              "1251  3489  As much as I like the food there, I can't brin...   \n",
              "1480  1370    I'm still mad that i had to pay for lousy food.   \n",
              "2713  2493                   Overall a worthwhile experience.   \n",
              "2490  2997                          Delicious crab cakes too.   \n",
              "324    345                              The service is awful.   \n",
              "...    ...                                                ...   \n",
              "1956  2125  Largest and freshest pieces of sushi, and deli...   \n",
              "2149  2388                               That's good and bad.   \n",
              "449   2140  Hurley's is like Cheers where everyone knows y...   \n",
              "2611  1786  The spicy Tuna roll is huge and probably the b...   \n",
              "471    318  The atmosphere is great if your looking for a ...   \n",
              "\n",
              "               aspectCategory  polarity  \n",
              "1251  anecdotes/miscellaneous  negative  \n",
              "1480                     food  negative  \n",
              "2713  anecdotes/miscellaneous  positive  \n",
              "2490                     food  positive  \n",
              "324                   service  negative  \n",
              "...                       ...       ...  \n",
              "1956                     food  positive  \n",
              "2149  anecdotes/miscellaneous  conflict  \n",
              "449                   service  positive  \n",
              "2611                    price  positive  \n",
              "471                  ambience  positive  \n",
              "\n",
              "[127 rows x 4 columns]"
            ],
            "text/html": [
              "\n",
              "  <div id=\"df-8a5723a6-0cb6-4311-8b33-3e5ed33567df\">\n",
              "    <div class=\"colab-df-container\">\n",
              "      <div>\n",
              "<style scoped>\n",
              "    .dataframe tbody tr th:only-of-type {\n",
              "        vertical-align: middle;\n",
              "    }\n",
              "\n",
              "    .dataframe tbody tr th {\n",
              "        vertical-align: top;\n",
              "    }\n",
              "\n",
              "    .dataframe thead th {\n",
              "        text-align: right;\n",
              "    }\n",
              "</style>\n",
              "<table border=\"1\" class=\"dataframe\">\n",
              "  <thead>\n",
              "    <tr style=\"text-align: right;\">\n",
              "      <th></th>\n",
              "      <th>id</th>\n",
              "      <th>text</th>\n",
              "      <th>aspectCategory</th>\n",
              "      <th>polarity</th>\n",
              "    </tr>\n",
              "  </thead>\n",
              "  <tbody>\n",
              "    <tr>\n",
              "      <th>1251</th>\n",
              "      <td>3489</td>\n",
              "      <td>As much as I like the food there, I can't brin...</td>\n",
              "      <td>anecdotes/miscellaneous</td>\n",
              "      <td>negative</td>\n",
              "    </tr>\n",
              "    <tr>\n",
              "      <th>1480</th>\n",
              "      <td>1370</td>\n",
              "      <td>I'm still mad that i had to pay for lousy food.</td>\n",
              "      <td>food</td>\n",
              "      <td>negative</td>\n",
              "    </tr>\n",
              "    <tr>\n",
              "      <th>2713</th>\n",
              "      <td>2493</td>\n",
              "      <td>Overall a worthwhile experience.</td>\n",
              "      <td>anecdotes/miscellaneous</td>\n",
              "      <td>positive</td>\n",
              "    </tr>\n",
              "    <tr>\n",
              "      <th>2490</th>\n",
              "      <td>2997</td>\n",
              "      <td>Delicious crab cakes too.</td>\n",
              "      <td>food</td>\n",
              "      <td>positive</td>\n",
              "    </tr>\n",
              "    <tr>\n",
              "      <th>324</th>\n",
              "      <td>345</td>\n",
              "      <td>The service is awful.</td>\n",
              "      <td>service</td>\n",
              "      <td>negative</td>\n",
              "    </tr>\n",
              "    <tr>\n",
              "      <th>...</th>\n",
              "      <td>...</td>\n",
              "      <td>...</td>\n",
              "      <td>...</td>\n",
              "      <td>...</td>\n",
              "    </tr>\n",
              "    <tr>\n",
              "      <th>1956</th>\n",
              "      <td>2125</td>\n",
              "      <td>Largest and freshest pieces of sushi, and deli...</td>\n",
              "      <td>food</td>\n",
              "      <td>positive</td>\n",
              "    </tr>\n",
              "    <tr>\n",
              "      <th>2149</th>\n",
              "      <td>2388</td>\n",
              "      <td>That's good and bad.</td>\n",
              "      <td>anecdotes/miscellaneous</td>\n",
              "      <td>conflict</td>\n",
              "    </tr>\n",
              "    <tr>\n",
              "      <th>449</th>\n",
              "      <td>2140</td>\n",
              "      <td>Hurley's is like Cheers where everyone knows y...</td>\n",
              "      <td>service</td>\n",
              "      <td>positive</td>\n",
              "    </tr>\n",
              "    <tr>\n",
              "      <th>2611</th>\n",
              "      <td>1786</td>\n",
              "      <td>The spicy Tuna roll is huge and probably the b...</td>\n",
              "      <td>price</td>\n",
              "      <td>positive</td>\n",
              "    </tr>\n",
              "    <tr>\n",
              "      <th>471</th>\n",
              "      <td>318</td>\n",
              "      <td>The atmosphere is great if your looking for a ...</td>\n",
              "      <td>ambience</td>\n",
              "      <td>positive</td>\n",
              "    </tr>\n",
              "  </tbody>\n",
              "</table>\n",
              "<p>127 rows × 4 columns</p>\n",
              "</div>\n",
              "      <button class=\"colab-df-convert\" onclick=\"convertToInteractive('df-8a5723a6-0cb6-4311-8b33-3e5ed33567df')\"\n",
              "              title=\"Convert this dataframe to an interactive table.\"\n",
              "              style=\"display:none;\">\n",
              "        \n",
              "  <svg xmlns=\"http://www.w3.org/2000/svg\" height=\"24px\"viewBox=\"0 0 24 24\"\n",
              "       width=\"24px\">\n",
              "    <path d=\"M0 0h24v24H0V0z\" fill=\"none\"/>\n",
              "    <path d=\"M18.56 5.44l.94 2.06.94-2.06 2.06-.94-2.06-.94-.94-2.06-.94 2.06-2.06.94zm-11 1L8.5 8.5l.94-2.06 2.06-.94-2.06-.94L8.5 2.5l-.94 2.06-2.06.94zm10 10l.94 2.06.94-2.06 2.06-.94-2.06-.94-.94-2.06-.94 2.06-2.06.94z\"/><path d=\"M17.41 7.96l-1.37-1.37c-.4-.4-.92-.59-1.43-.59-.52 0-1.04.2-1.43.59L10.3 9.45l-7.72 7.72c-.78.78-.78 2.05 0 2.83L4 21.41c.39.39.9.59 1.41.59.51 0 1.02-.2 1.41-.59l7.78-7.78 2.81-2.81c.8-.78.8-2.07 0-2.86zM5.41 20L4 18.59l7.72-7.72 1.47 1.35L5.41 20z\"/>\n",
              "  </svg>\n",
              "      </button>\n",
              "      \n",
              "  <style>\n",
              "    .colab-df-container {\n",
              "      display:flex;\n",
              "      flex-wrap:wrap;\n",
              "      gap: 12px;\n",
              "    }\n",
              "\n",
              "    .colab-df-convert {\n",
              "      background-color: #E8F0FE;\n",
              "      border: none;\n",
              "      border-radius: 50%;\n",
              "      cursor: pointer;\n",
              "      display: none;\n",
              "      fill: #1967D2;\n",
              "      height: 32px;\n",
              "      padding: 0 0 0 0;\n",
              "      width: 32px;\n",
              "    }\n",
              "\n",
              "    .colab-df-convert:hover {\n",
              "      background-color: #E2EBFA;\n",
              "      box-shadow: 0px 1px 2px rgba(60, 64, 67, 0.3), 0px 1px 3px 1px rgba(60, 64, 67, 0.15);\n",
              "      fill: #174EA6;\n",
              "    }\n",
              "\n",
              "    [theme=dark] .colab-df-convert {\n",
              "      background-color: #3B4455;\n",
              "      fill: #D2E3FC;\n",
              "    }\n",
              "\n",
              "    [theme=dark] .colab-df-convert:hover {\n",
              "      background-color: #434B5C;\n",
              "      box-shadow: 0px 1px 3px 1px rgba(0, 0, 0, 0.15);\n",
              "      filter: drop-shadow(0px 1px 2px rgba(0, 0, 0, 0.3));\n",
              "      fill: #FFFFFF;\n",
              "    }\n",
              "  </style>\n",
              "\n",
              "      <script>\n",
              "        const buttonEl =\n",
              "          document.querySelector('#df-8a5723a6-0cb6-4311-8b33-3e5ed33567df button.colab-df-convert');\n",
              "        buttonEl.style.display =\n",
              "          google.colab.kernel.accessAllowed ? 'block' : 'none';\n",
              "\n",
              "        async function convertToInteractive(key) {\n",
              "          const element = document.querySelector('#df-8a5723a6-0cb6-4311-8b33-3e5ed33567df');\n",
              "          const dataTable =\n",
              "            await google.colab.kernel.invokeFunction('convertToInteractive',\n",
              "                                                     [key], {});\n",
              "          if (!dataTable) return;\n",
              "\n",
              "          const docLinkHtml = 'Like what you see? Visit the ' +\n",
              "            '<a target=\"_blank\" href=https://colab.research.google.com/notebooks/data_table.ipynb>data table notebook</a>'\n",
              "            + ' to learn more about interactive tables.';\n",
              "          element.innerHTML = '';\n",
              "          dataTable['output_type'] = 'display_data';\n",
              "          await google.colab.output.renderOutput(dataTable, element);\n",
              "          const docLink = document.createElement('div');\n",
              "          docLink.innerHTML = docLinkHtml;\n",
              "          element.appendChild(docLink);\n",
              "        }\n",
              "      </script>\n",
              "    </div>\n",
              "  </div>\n",
              "  "
            ]
          },
          "metadata": {},
          "execution_count": 10
        }
      ]
    },
    {
      "cell_type": "markdown",
      "metadata": {
        "id": "ZnPLk2l6iap5"
      },
      "source": [
        "## 3. Convert words into indices and pad + truncate sequences"
      ]
    },
    {
      "cell_type": "code",
      "execution_count": null,
      "metadata": {
        "id": "BujxcXX9D5FY"
      },
      "outputs": [],
      "source": [
        "def convert_words(df, word_to_index, max_length):\n",
        "  tokens = df['tokenized'].apply(lambda x: x.split('|'))\n",
        "  list_of_list_of_indices = list(tokens.map(lambda x: [word_to_index.get(word, word_to_index['<UNK>']) for word in x]))\n",
        "  return pad_sequences(list_of_list_of_indices, max_length, padding='post', value=word_to_index['PADDING'], truncating='post')\n",
        "\n",
        "# max length (กำหนดเอง)\n",
        "max_len = 100\n",
        "train_x = convert_words(train, word_to_index, max_len)\n",
        "dev_x = convert_words(dev, word_to_index, max_len)\n",
        "num_classes = 5"
      ]
    },
    {
      "cell_type": "markdown",
      "metadata": {
        "id": "cIx5Es7Yiap9"
      },
      "source": [
        "## 4. Mapping labels"
      ]
    },
    {
      "cell_type": "code",
      "execution_count": null,
      "metadata": {
        "id": "g28Pn1U_iap-"
      },
      "outputs": [],
      "source": [
        "def get_label(df):\n",
        "  star_to_label = {'ambience':0, 'anecdotes/miscellaneous':1, 'food':2, 'price':3, 'service':4}\n",
        "  # apply functions & convert to np.array\n",
        "  label = np.array(df['aspectCategory'].replace(star_to_label).tolist())\n",
        "  df['label'] = label\n",
        "  return to_categorical(label, num_classes=5)\n",
        "\n",
        "# label : one-hot vector\n",
        "train_y = get_label(train)\n",
        "dev_y = get_label(dev)"
      ]
    },
    {
      "cell_type": "code",
      "execution_count": null,
      "metadata": {
        "colab": {
          "base_uri": "https://localhost:8080/"
        },
        "id": "Hu4lM28_nOit",
        "outputId": "6e8b3b3a-5d76-4db3-e98b-3a4230153c93"
      },
      "outputs": [
        {
          "output_type": "stream",
          "name": "stdout",
          "text": [
            "input train: (2524, 100)\n",
            "input dev: (505, 100)\n",
            "label train: (2524, 5)\n",
            "label dev: (505, 5)\n"
          ]
        }
      ],
      "source": [
        "# check the shape\n",
        "print('input train:', train_x.shape)\n",
        "print('input dev:', dev_x.shape)\n",
        "print('label train:', train_y.shape)\n",
        "print('label dev:',dev_y.shape)"
      ]
    },
    {
      "cell_type": "markdown",
      "metadata": {
        "id": "w4TCVWIz03gt"
      },
      "source": [
        "## 5. Train the model"
      ]
    },
    {
      "cell_type": "markdown",
      "source": [
        "## Deep Average Net"
      ],
      "metadata": {
        "id": "w0cA4IicB3ya"
      }
    },
    {
      "cell_type": "code",
      "source": [
        "def make_deep_average_net(print_model=True):\n",
        "    # instantiation\n",
        "    model = Sequential()\n",
        "\n",
        "    # add embedding layer\n",
        "    model.add(Embedding(input_dim=embedding_matrix.shape[0],\n",
        "                        input_length=max_len,\n",
        "                        output_dim=embedding_matrix.shape[1],\n",
        "                        weights=[embedding_matrix],\n",
        "                        mask_zero=True,\n",
        "                        trainable=False))\n",
        "\n",
        "    model.add(BatchNormalization())\n",
        "\n",
        "    # average\n",
        "    model.add(GlobalAveragePooling1D())\n",
        "\n",
        "    # add hidden layer\n",
        "    model.add(Dense(100, activation='relu'))\n",
        "\n",
        "    model.add(Dropout(0.3))\n",
        "\n",
        "    model.add(Dense(100, activation='relu'))\n",
        "\n",
        "    model.add(Dropout(0.5))\n",
        "\n",
        "    # add output layer\n",
        "    model.add(Dense(num_classes, activation='softmax'))\n",
        "\n",
        "    lr = 0.001\n",
        "    optimizer = Adam(lr=lr)\n",
        "\n",
        "    # compile model\n",
        "    model.compile(optimizer=\"Adam\", loss=\"categorical_crossentropy\", metrics=[\"accuracy\"])\n",
        "    if print_model:\n",
        "        model.summary()\n",
        "        plot_model(model, show_shapes=True,to_file='model.png')\n",
        "        display_png(Image('model.png'))\n",
        "    return model"
      ],
      "metadata": {
        "id": "b9iCgA94uECk"
      },
      "execution_count": null,
      "outputs": []
    },
    {
      "cell_type": "code",
      "source": [
        "model = make_deep_average_net()"
      ],
      "metadata": {
        "colab": {
          "base_uri": "https://localhost:8080/",
          "height": 1000
        },
        "id": "WOIojdFluDXm",
        "outputId": "2bf76be1-78fd-4814-9aba-a824f08fc559"
      },
      "execution_count": null,
      "outputs": [
        {
          "output_type": "stream",
          "name": "stdout",
          "text": [
            "Model: \"sequential_1\"\n",
            "_________________________________________________________________\n",
            " Layer (type)                Output Shape              Param #   \n",
            "=================================================================\n",
            " embedding (Embedding)       (None, 100, 200)          80000400  \n",
            "                                                                 \n",
            " batch_normalization (BatchN  (None, 100, 200)         800       \n",
            " ormalization)                                                   \n",
            "                                                                 \n",
            " global_average_pooling1d (G  (None, 200)              0         \n",
            " lobalAveragePooling1D)                                          \n",
            "                                                                 \n",
            " dense (Dense)               (None, 100)               20100     \n",
            "                                                                 \n",
            " dropout (Dropout)           (None, 100)               0         \n",
            "                                                                 \n",
            " dense_1 (Dense)             (None, 100)               10100     \n",
            "                                                                 \n",
            " dropout_1 (Dropout)         (None, 100)               0         \n",
            "                                                                 \n",
            " dense_2 (Dense)             (None, 5)                 505       \n",
            "                                                                 \n",
            "=================================================================\n",
            "Total params: 80,031,905\n",
            "Trainable params: 31,105\n",
            "Non-trainable params: 80,000,800\n",
            "_________________________________________________________________\n"
          ]
        },
        {
          "output_type": "stream",
          "name": "stderr",
          "text": [
            "/usr/local/lib/python3.8/dist-packages/keras/optimizers/optimizer_v2/adam.py:117: UserWarning: The `lr` argument is deprecated, use `learning_rate` instead.\n",
            "  super().__init__(name, **kwargs)\n"
          ]
        },
        {
          "output_type": "display_data",
          "data": {
            "image/png": "[encoded data removed]"
          },
          "metadata": {}
        }
      ]
    },
    {
      "cell_type": "code",
      "execution_count": null,
      "metadata": {
        "colab": {
          "base_uri": "https://localhost:8080/"
        },
        "id": "zlw6pD0obfJ3",
        "outputId": "fcdba191-daf0-4033-cb76-49e432135427"
      },
      "outputs": [
        {
          "output_type": "stream",
          "name": "stdout",
          "text": [
            "Epoch 1/8\n",
            "40/40 [==============================] - 2s 16ms/step - loss: 1.5286 - accuracy: 0.3831 - val_loss: 1.5052 - val_accuracy: 0.5287\n",
            "Epoch 2/8\n",
            "40/40 [==============================] - 0s 10ms/step - loss: 1.2824 - accuracy: 0.4992 - val_loss: 1.4511 - val_accuracy: 0.5525\n",
            "Epoch 3/8\n",
            "40/40 [==============================] - 0s 10ms/step - loss: 1.1731 - accuracy: 0.5523 - val_loss: 1.3589 - val_accuracy: 0.5921\n",
            "Epoch 4/8\n",
            "40/40 [==============================] - 0s 10ms/step - loss: 1.0882 - accuracy: 0.5784 - val_loss: 1.2712 - val_accuracy: 0.6059\n",
            "Epoch 5/8\n",
            "40/40 [==============================] - 0s 11ms/step - loss: 1.0310 - accuracy: 0.6010 - val_loss: 1.1917 - val_accuracy: 0.6436\n",
            "Epoch 6/8\n",
            "40/40 [==============================] - 0s 11ms/step - loss: 0.9915 - accuracy: 0.6189 - val_loss: 1.1268 - val_accuracy: 0.6040\n",
            "Epoch 7/8\n",
            "40/40 [==============================] - 0s 11ms/step - loss: 0.9444 - accuracy: 0.6335 - val_loss: 1.0662 - val_accuracy: 0.6515\n",
            "Epoch 8/8\n",
            "40/40 [==============================] - 0s 10ms/step - loss: 0.9196 - accuracy: 0.6331 - val_loss: 0.9872 - val_accuracy: 0.6495\n"
          ]
        }
      ],
      "source": [
        "# train\n",
        "history = model.fit(train_x, train_y, batch_size=64, epochs=8, validation_data=(dev_x, dev_y))"
      ]
    },
    {
      "cell_type": "code",
      "execution_count": null,
      "metadata": {
        "id": "5B6O6P49xZAE",
        "colab": {
          "base_uri": "https://localhost:8080/",
          "height": 282
        },
        "outputId": "e5aa35b1-5d61-4b42-cb37-aceb106eb47c"
      },
      "outputs": [
        {
          "output_type": "display_data",
          "data": {
            "text/plain": [
              "<Figure size 432x288 with 1 Axes>"
            ],
            "image/png": "[encoded data removed]"
          },
          "metadata": {}
        }
      ],
      "source": [
        "plt.plot(history.history['accuracy'])\n",
        "plt.plot(history.history['val_accuracy'])\n",
        "plt.ylabel('accuracy')\n",
        "plt.xlabel('epoch')\n",
        "plt.legend(['train', 'dev'], loc='best')\n",
        "plt.show()"
      ]
    },
    {
      "cell_type": "code",
      "execution_count": null,
      "metadata": {
        "id": "Oy9TfWC5yBL_",
        "colab": {
          "base_uri": "https://localhost:8080/",
          "height": 282
        },
        "outputId": "006b4c38-416d-4a38-f983-b52a82da064e"
      },
      "outputs": [
        {
          "output_type": "display_data",
          "data": {
            "text/plain": [
              "<Figure size 432x288 with 1 Axes>"
            ],
            "image/png": "[encoded data removed]"
          },
          "metadata": {}
        }
      ],
      "source": [
        "plt.plot(history.history['loss'])\n",
        "plt.plot(history.history['val_loss'])\n",
        "plt.ylabel('loss')\n",
        "plt.xlabel('epoch')\n",
        "plt.legend(['train', 'dev'], loc='best')\n",
        "plt.show()"
      ]
    },
    {
      "cell_type": "markdown",
      "metadata": {
        "id": "C3V82HOciaqc"
      },
      "source": [
        "## 6. Evaluate the model"
      ]
    },
    {
      "cell_type": "code",
      "execution_count": null,
      "metadata": {
        "id": "ig8uiaCl2CID",
        "colab": {
          "base_uri": "https://localhost:8080/"
        },
        "outputId": "92a00910-d15e-4897-caaa-3e8be055e88f"
      },
      "outputs": [
        {
          "output_type": "stream",
          "name": "stdout",
          "text": [
            "16/16 [==============================] - 0s 2ms/step\n",
            "              precision    recall  f1-score   support\n",
            "\n",
            "           0       0.58      0.33      0.42        54\n",
            "           1       0.66      0.85      0.74       149\n",
            "           2       0.68      0.75      0.71       174\n",
            "           3       0.54      0.30      0.39        43\n",
            "           4       0.60      0.46      0.52        85\n",
            "\n",
            "    accuracy                           0.65       505\n",
            "   macro avg       0.61      0.54      0.56       505\n",
            "weighted avg       0.64      0.65      0.63       505\n",
            "\n"
          ]
        }
      ],
      "source": [
        "prediction = [np.argmax(x) for x in model.predict(dev_x)]\n",
        "print(classification_report(dev['label'], prediction))"
      ]
    },
    {
      "cell_type": "markdown",
      "source": [
        "## CNN"
      ],
      "metadata": {
        "id": "NlrQz1dnEIWF"
      }
    },
    {
      "cell_type": "code",
      "execution_count": null,
      "metadata": {
        "id": "yfsX6RpOjbDj"
      },
      "outputs": [],
      "source": [
        "def make_cnn_model(print_model=True):\n",
        "    filters = 300 #number of filters in your Convnet\n",
        "    kernel_size = 3 # a window size of 3 tokens\n",
        "    hidden_dims = 100 #number of neurons at the normal feedforward NN\n",
        "\n",
        "    cnn_model = Sequential()\n",
        "    cnn_model.add(Embedding(input_dim=embedding_matrix.shape[0],\n",
        "                        input_length=max_len,\n",
        "                        output_dim=embedding_matrix.shape[1],\n",
        "                        weights=[embedding_matrix],\n",
        "                        mask_zero=True,\n",
        "                        trainable=False))\n",
        "\n",
        "    cnn_model.add(Conv1D(filters,\n",
        "                        kernel_size,\n",
        "                        input_shape=(max_len, embedding_matrix.shape[1]),\n",
        "                        activation='relu',))\n",
        "\n",
        "    cnn_model.add(Dense(64, activation='relu', kernel_regularizer=regularizers.l2(0.01), bias_regularizer=regularizers.l2(0.01)))\n",
        "\n",
        "    cnn_model.add(GlobalMaxPooling1D())\n",
        "    #GlobalMaxPooling1D(n) default = 2.\n",
        "    cnn_model.add(Dense(hidden_dims, activation='relu'))\n",
        "    cnn_model.add(Dropout(0.4))\n",
        "    cnn_model.add(Dense(5, activation='softmax'))\n",
        "\n",
        "    # compile model\n",
        "    cnn_model.compile(optimizer=optimizers.RMSprop(learning_rate=0.001),\n",
        "              loss=\"categorical_crossentropy\", metrics=[\"accuracy\"])\n",
        "    if print_model:\n",
        "        cnn_model.summary()\n",
        "        plot_model(cnn_model, show_shapes=True,to_file='model.png')\n",
        "        display_png(Image('model.png'))\n",
        "    return cnn_model"
      ]
    },
    {
      "cell_type": "code",
      "source": [
        "cnn_model = make_cnn_model()"
      ],
      "metadata": {
        "id": "Oy5vijexEOtK",
        "colab": {
          "base_uri": "https://localhost:8080/",
          "height": 1000
        },
        "outputId": "1e4ca68d-177f-40ac-affa-6909e929a629"
      },
      "execution_count": null,
      "outputs": [
        {
          "output_type": "stream",
          "name": "stdout",
          "text": [
            "Model: \"sequential_11\"\n",
            "_________________________________________________________________\n",
            " Layer (type)                Output Shape              Param #   \n",
            "=================================================================\n",
            " embedding_10 (Embedding)    (None, 100, 200)          80000400  \n",
            "                                                                 \n",
            " conv1d_9 (Conv1D)           (None, 98, 300)           180300    \n",
            "                                                                 \n",
            " dense_30 (Dense)            (None, 98, 64)            19264     \n",
            "                                                                 \n",
            " global_max_pooling1d_9 (Glo  (None, 64)               0         \n",
            " balMaxPooling1D)                                                \n",
            "                                                                 \n",
            " dense_31 (Dense)            (None, 100)               6500      \n",
            "                                                                 \n",
            " dropout_11 (Dropout)        (None, 100)               0         \n",
            "                                                                 \n",
            " dense_32 (Dense)            (None, 5)                 505       \n",
            "                                                                 \n",
            "=================================================================\n",
            "Total params: 80,206,969\n",
            "Trainable params: 206,569\n",
            "Non-trainable params: 80,000,400\n",
            "_________________________________________________________________\n"
          ]
        },
        {
          "output_type": "display_data",
          "data": {
            "image/png": "[encoded data removed]"
          },
          "metadata": {}
        }
      ]
    },
    {
      "cell_type": "code",
      "source": [
        "# train\n",
        "cnn_history = cnn_model.fit(train_x, train_y, batch_size=128, epochs=7, validation_data=(dev_x, dev_y))"
      ],
      "metadata": {
        "id": "M0DfJpvjEPaY",
        "colab": {
          "base_uri": "https://localhost:8080/"
        },
        "outputId": "1c6b6579-e608-4637-d9b8-68f88730d3fa"
      },
      "execution_count": null,
      "outputs": [
        {
          "output_type": "stream",
          "name": "stdout",
          "text": [
            "Epoch 1/7\n",
            "20/20 [==============================] - 5s 220ms/step - loss: 2.2176 - accuracy: 0.4881 - val_loss: 1.8863 - val_accuracy: 0.5921\n",
            "Epoch 2/7\n",
            "20/20 [==============================] - 3s 175ms/step - loss: 1.7257 - accuracy: 0.6141 - val_loss: 1.6374 - val_accuracy: 0.6198\n",
            "Epoch 3/7\n",
            "20/20 [==============================] - 3s 174ms/step - loss: 1.4750 - accuracy: 0.6561 - val_loss: 1.4349 - val_accuracy: 0.6475\n",
            "Epoch 4/7\n",
            "20/20 [==============================] - 4s 201ms/step - loss: 1.3073 - accuracy: 0.6811 - val_loss: 1.3192 - val_accuracy: 0.6515\n",
            "Epoch 5/7\n",
            "20/20 [==============================] - 3s 168ms/step - loss: 1.1823 - accuracy: 0.6910 - val_loss: 1.2581 - val_accuracy: 0.6139\n",
            "Epoch 6/7\n",
            "20/20 [==============================] - 3s 171ms/step - loss: 1.0938 - accuracy: 0.6997 - val_loss: 1.2162 - val_accuracy: 0.6515\n",
            "Epoch 7/7\n",
            "20/20 [==============================] - 3s 171ms/step - loss: 1.0356 - accuracy: 0.7072 - val_loss: 1.1541 - val_accuracy: 0.6455\n"
          ]
        }
      ]
    },
    {
      "cell_type": "code",
      "source": [
        "plt.plot(cnn_history.history['accuracy'])\n",
        "plt.plot(cnn_history.history['val_accuracy'])\n",
        "plt.ylabel('accuracy')\n",
        "plt.xlabel('epoch')\n",
        "plt.legend(['train', 'dev'], loc='best')\n",
        "plt.show()"
      ],
      "metadata": {
        "id": "Bm0Im2AqEVPF",
        "colab": {
          "base_uri": "https://localhost:8080/",
          "height": 282
        },
        "outputId": "c2ac6da8-edf2-430f-9ec2-d3523e0b8a36"
      },
      "execution_count": null,
      "outputs": [
        {
          "output_type": "display_data",
          "data": {
            "text/plain": [
              "<Figure size 432x288 with 1 Axes>"
            ],
            "image/png": "[encoded data removed]"
          },
          "metadata": {}
        }
      ]
    },
    {
      "cell_type": "code",
      "source": [
        "plt.plot(cnn_history.history['loss'])\n",
        "plt.plot(cnn_history.history['val_loss'])\n",
        "plt.ylabel('loss')\n",
        "plt.xlabel('epoch')\n",
        "plt.legend(['train', 'dev'], loc='best')\n",
        "plt.show()"
      ],
      "metadata": {
        "id": "h5eLh1yKEV27",
        "colab": {
          "base_uri": "https://localhost:8080/",
          "height": 282
        },
        "outputId": "2bc7cdee-b21f-493d-9c00-0842d55dd717"
      },
      "execution_count": null,
      "outputs": [
        {
          "output_type": "display_data",
          "data": {
            "text/plain": [
              "<Figure size 432x288 with 1 Axes>"
            ],
            "image/png": "[encoded data removed]"
          },
          "metadata": {}
        }
      ]
    },
    {
      "cell_type": "code",
      "source": [
        "prediction = [np.argmax(x) for x in cnn_model.predict(dev_x)]\n",
        "print(classification_report(dev['label'], prediction))"
      ],
      "metadata": {
        "colab": {
          "base_uri": "https://localhost:8080/"
        },
        "id": "GzS_ypnMcwuS",
        "outputId": "39e10d31-4484-4046-927c-9702f38e3dae"
      },
      "execution_count": null,
      "outputs": [
        {
          "output_type": "stream",
          "name": "stdout",
          "text": [
            "16/16 [==============================] - 0s 20ms/step\n",
            "              precision    recall  f1-score   support\n",
            "\n",
            "           0       0.46      0.48      0.47        54\n",
            "           1       0.71      0.83      0.77       149\n",
            "           2       0.65      0.80      0.72       174\n",
            "           3       0.43      0.30      0.36        43\n",
            "           4       0.68      0.22      0.34        85\n",
            "\n",
            "    accuracy                           0.64       505\n",
            "   macro avg       0.59      0.53      0.53       505\n",
            "weighted avg       0.63      0.64      0.61       505\n",
            "\n"
          ]
        }
      ]
    },
    {
      "cell_type": "code",
      "source": [
        "cnn_model.evaluate(dev_x, dev_y)[1]"
      ],
      "metadata": {
        "colab": {
          "base_uri": "https://localhost:8080/"
        },
        "id": "F8UDVQPqcz58",
        "outputId": "e73ac961-7d65-433a-c8cd-303c3c3f78c5"
      },
      "execution_count": null,
      "outputs": [
        {
          "output_type": "stream",
          "name": "stdout",
          "text": [
            "16/16 [==============================] - 0s 20ms/step - loss: 1.1760 - accuracy: 0.6376\n"
          ]
        },
        {
          "output_type": "execute_result",
          "data": {
            "text/plain": [
              "0.6376237869262695"
            ]
          },
          "metadata": {},
          "execution_count": 87
        }
      ]
    },
    {
      "cell_type": "markdown",
      "source": [
        "## Hyperparameter"
      ],
      "metadata": {
        "id": "-_XXSPGYHjKg"
      }
    },
    {
      "cell_type": "code",
      "source": [
        "from keras import optimizers, regularizers\n",
        "model.compile(optimizer=optimizers.Adagrad(learning_rate=0.001),\n",
        "              loss=\"categorical_crossentropy\", metrics=[\"accuracy\"])\n"
      ],
      "metadata": {
        "id": "H8fnPL0Fe1TJ"
      },
      "execution_count": null,
      "outputs": []
    },
    {
      "cell_type": "code",
      "source": [
        "Dense(250, activation='relu',\n",
        "      kernel_regularizer=regularizers.l2(l2=1e-5),\n",
        "      bias_regularizer=regularizers.l2(1e-5))"
      ],
      "metadata": {
        "id": "eepOwjm-eon3",
        "colab": {
          "base_uri": "https://localhost:8080/"
        },
        "outputId": "e6017213-77be-41a1-b97b-718e42f1d9f6"
      },
      "execution_count": null,
      "outputs": [
        {
          "output_type": "execute_result",
          "data": {
            "text/plain": [
              "<keras.layers.core.dense.Dense at 0x7f81752abbe0>"
            ]
          },
          "metadata": {},
          "execution_count": 488
        }
      ]
    },
    {
      "cell_type": "code",
      "source": [
        "model.add(Dropout(0.4))"
      ],
      "metadata": {
        "id": "Vg5fti1-ftdq"
      },
      "execution_count": null,
      "outputs": []
    }
  ],
  "metadata": {
    "accelerator": "GPU",
    "colab": {
      "machine_shape": "hm",
      "provenance": []
    },
    "kernelspec": {
      "display_name": "Python 3 (ipykernel)",
      "language": "python",
      "name": "python3"
    },
    "language_info": {
      "codemirror_mode": {
        "name": "ipython",
        "version": 3
      },
      "file_extension": ".py",
      "mimetype": "text/x-python",
      "name": "python",
      "nbconvert_exporter": "python",
      "pygments_lexer": "ipython3",
      "version": "3.8.12"
    }
  },
  "nbformat": 4,
  "nbformat_minor": 0
}