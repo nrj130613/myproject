{
  "cells": [
    {
      "cell_type": "markdown",
      "metadata": {
        "id": "view-in-github",
        "colab_type": "text"
      },
      "source": [
        "<a href=\"https://colab.research.google.com/github/nrj130613/myproject/blob/main/NER_pos.ipynb\" target=\"_parent\"><img src=\"https://colab.research.google.com/assets/colab-badge.svg\" alt=\"Open In Colab\"/></a>"
      ]
    },
    {
      "cell_type": "markdown",
      "metadata": {
        "id": "Hyoh28LtDN2h"
      },
      "source": [
        "# 1. Download Data"
      ]
    },
    {
      "cell_type": "code",
      "execution_count": null,
      "metadata": {
        "colab": {
          "base_uri": "https://localhost:8080/"
        },
        "id": "Jivk7RHLcfs5",
        "outputId": "e11eb8db-3d30-4f04-cbf9-7866ee9b17d0"
      },
      "outputs": [
        {
          "output_type": "stream",
          "name": "stdout",
          "text": [
            "Looking in indexes: https://pypi.org/simple, https://us-python.pkg.dev/colab-wheels/public/simple/\n",
            "Collecting sklearn-crfsuite\n",
            "  Downloading sklearn_crfsuite-0.3.6-py2.py3-none-any.whl (12 kB)\n",
            "Requirement already satisfied: six in /usr/local/lib/python3.9/dist-packages (from sklearn-crfsuite) (1.16.0)\n",
            "Requirement already satisfied: tabulate in /usr/local/lib/python3.9/dist-packages (from sklearn-crfsuite) (0.8.10)\n",
            "Requirement already satisfied: tqdm>=2.0 in /usr/local/lib/python3.9/dist-packages (from sklearn-crfsuite) (4.65.0)\n",
            "Collecting python-crfsuite>=0.8.3\n",
            "  Downloading python_crfsuite-0.9.9-cp39-cp39-manylinux_2_17_x86_64.manylinux2014_x86_64.whl (1.0 MB)\n",
            "\u001b[2K     \u001b[90m━━━━━━━━━━━━━━━━━━━━━━━━━━━━━━━━━━━━━━━━\u001b[0m \u001b[32m1.0/1.0 MB\u001b[0m \u001b[31m14.4 MB/s\u001b[0m eta \u001b[36m0:00:00\u001b[0m\n",
            "\u001b[?25hInstalling collected packages: python-crfsuite, sklearn-crfsuite\n",
            "Successfully installed python-crfsuite-0.9.9 sklearn-crfsuite-0.3.6\n"
          ]
        }
      ],
      "source": [
        "!pip install sklearn-crfsuite"
      ]
    },
    {
      "cell_type": "code",
      "source": [
        "!gdown 1LHZe1etwxaKnP6TWTbDscasBe5pGykjJ"
      ],
      "metadata": {
        "colab": {
          "base_uri": "https://localhost:8080/"
        },
        "id": "CsNUsIdla17i",
        "outputId": "360f3f8b-4100-45bf-f0e1-ab5421d04bbf"
      },
      "execution_count": null,
      "outputs": [
        {
          "output_type": "stream",
          "name": "stdout",
          "text": [
            "Downloading...\n",
            "From: https://drive.google.com/uc?id=1LHZe1etwxaKnP6TWTbDscasBe5pGykjJ\n",
            "To: /content/train_auto_tok.tsv\n",
            "100% 38.9M/38.9M [00:00<00:00, 61.0MB/s]\n"
          ]
        }
      ]
    },
    {
      "cell_type": "code",
      "execution_count": null,
      "metadata": {
        "colab": {
          "base_uri": "https://localhost:8080/"
        },
        "id": "7_yMUtkhDN2u",
        "outputId": "03a95782-9c86-42f2-befb-71eab237d98e"
      },
      "outputs": [
        {
          "output_type": "stream",
          "name": "stdout",
          "text": [
            "ธรรมนูญ\tB_PER\n",
            "แชมป์\tO\n",
            "สิงห์\tO\n",
            "คลาสสิก\tO\n",
            "กวาด\tO\n",
            "รางวัล\tO\n",
            "แสน\tO\n",
            "สี่\tO\n",
            "หมื่น\tO\n",
            "บาท\tO\n"
          ]
        }
      ],
      "source": [
        "!head train_auto_tok.tsv"
      ]
    },
    {
      "cell_type": "code",
      "source": [
        "!gdown 1LtdB8q2xVhK7vivJxTU6yYnl3KTG-QGS"
      ],
      "metadata": {
        "colab": {
          "base_uri": "https://localhost:8080/"
        },
        "id": "V3X5dFX_fakH",
        "outputId": "10cb82b6-4d8f-42b7-8c56-15f4dd22fb08"
      },
      "execution_count": null,
      "outputs": [
        {
          "output_type": "stream",
          "name": "stdout",
          "text": [
            "Downloading...\n",
            "From: https://drive.google.com/uc?id=1LtdB8q2xVhK7vivJxTU6yYnl3KTG-QGS\n",
            "To: /content/dev_auto_tok.tsv\n",
            "\r  0% 0.00/3.56M [00:00<?, ?B/s]\r100% 3.56M/3.56M [00:00<00:00, 55.0MB/s]\n"
          ]
        }
      ]
    },
    {
      "cell_type": "code",
      "source": [
        "def load_data(file_name):\n",
        "    with open(file_name, 'r') as f:\n",
        "        lines = f.read().splitlines()\n",
        "\n",
        "    X, Y = [], []\n",
        "    sentence, labels = [], []\n",
        "    for line in lines:\n",
        "        if not line:\n",
        "            if sentence:\n",
        "                X.append(sentence)\n",
        "                Y.append(labels)\n",
        "                sentence, labels = [], []\n",
        "        else:\n",
        "            word, tag = line.split('\\t')\n",
        "            sentence.append(word)\n",
        "            labels.append(tag)\n",
        "    if sentence:\n",
        "        X.append(sentence)\n",
        "        Y.append(labels)\n",
        "\n",
        "    return (X, Y)\n"
      ],
      "metadata": {
        "id": "KpLjfGPwv9pG"
      },
      "execution_count": null,
      "outputs": []
    },
    {
      "cell_type": "code",
      "execution_count": null,
      "metadata": {
        "id": "nCAI5im4fm8G"
      },
      "outputs": [],
      "source": [
        "Xtrain, Ytrain = load_data('train_auto_tok.tsv')\n",
        "Xtest, Ytest = load_data('dev_auto_tok.tsv')"
      ]
    },
    {
      "cell_type": "code",
      "source": [
        "Xtrain"
      ],
      "metadata": {
        "id": "W5banhivOB36"
      },
      "execution_count": null,
      "outputs": []
    },
    {
      "cell_type": "code",
      "execution_count": null,
      "metadata": {
        "id": "uzNGTg4aDN27"
      },
      "outputs": [],
      "source": [
        "import sklearn_crfsuite\n",
        "import sklearn_crfsuite.metrics"
      ]
    },
    {
      "cell_type": "markdown",
      "metadata": {
        "id": "0aocgHCXiNuR"
      },
      "source": [
        "# 2. Feature Engineering"
      ]
    },
    {
      "cell_type": "code",
      "source": [
        "!pip install pythainlp"
      ],
      "metadata": {
        "colab": {
          "base_uri": "https://localhost:8080/"
        },
        "id": "J_jiAHYnkbuF",
        "outputId": "8010d564-7b50-4988-c1c1-885684101f79"
      },
      "execution_count": null,
      "outputs": [
        {
          "output_type": "stream",
          "name": "stdout",
          "text": [
            "Looking in indexes: https://pypi.org/simple, https://us-python.pkg.dev/colab-wheels/public/simple/\n",
            "Collecting pythainlp\n",
            "  Downloading pythainlp-4.0.0-py3-none-any.whl (13.4 MB)\n",
            "\u001b[2K     \u001b[90m━━━━━━━━━━━━━━━━━━━━━━━━━━━━━━━━━━━━━━━━\u001b[0m \u001b[32m13.4/13.4 MB\u001b[0m \u001b[31m43.7 MB/s\u001b[0m eta \u001b[36m0:00:00\u001b[0m\n",
            "\u001b[?25hRequirement already satisfied: requests>=2.22.0 in /usr/local/lib/python3.9/dist-packages (from pythainlp) (2.27.1)\n",
            "Requirement already satisfied: charset-normalizer~=2.0.0 in /usr/local/lib/python3.9/dist-packages (from requests>=2.22.0->pythainlp) (2.0.12)\n",
            "Requirement already satisfied: idna<4,>=2.5 in /usr/local/lib/python3.9/dist-packages (from requests>=2.22.0->pythainlp) (3.4)\n",
            "Requirement already satisfied: urllib3<1.27,>=1.21.1 in /usr/local/lib/python3.9/dist-packages (from requests>=2.22.0->pythainlp) (1.26.15)\n",
            "Requirement already satisfied: certifi>=2017.4.17 in /usr/local/lib/python3.9/dist-packages (from requests>=2.22.0->pythainlp) (2022.12.7)\n",
            "Installing collected packages: pythainlp\n",
            "Successfully installed pythainlp-4.0.0\n"
          ]
        }
      ]
    },
    {
      "cell_type": "markdown",
      "source": [
        "# POS Features\n"
      ],
      "metadata": {
        "id": "5Cp8iT8rlarE"
      }
    },
    {
      "cell_type": "code",
      "source": [
        "import pythainlp\n",
        "from pythainlp.tag import pos_tag\n",
        "\n",
        "def pos_tagging(sentences):\n",
        "  sents_pos = []\n",
        "  for i in range(len(sentences)):\n",
        "    #for sent in sentences[i]:\n",
        "    each_sent_pos = pos_tag(sentences[i])\n",
        "\n",
        "    sents_pos.append(each_sent_pos)\n",
        "  return sents_pos"
      ],
      "metadata": {
        "id": "L1bcNGlUNkUN"
      },
      "execution_count": null,
      "outputs": []
    },
    {
      "cell_type": "code",
      "source": [
        "test = pos_tagging(Xtrain[0:5])\n",
        "test"
      ],
      "metadata": {
        "id": "8noBt5R4SD_k"
      },
      "execution_count": null,
      "outputs": []
    },
    {
      "cell_type": "code",
      "source": [
        "def pos_featurize(sent):\n",
        "  features = {}\n",
        "  for i in range(len(sent)):\n",
        "    word, pos = sent[i]\n",
        "    features[\"{}_{}_pos\".format(word, i)] = pos\n",
        "\n",
        "  return features\n",
        "\n",
        "feature_function_list = [pos_featurize]"
      ],
      "metadata": {
        "id": "suSIiN22UtF8"
      },
      "execution_count": null,
      "outputs": []
    },
    {
      "cell_type": "markdown",
      "metadata": {
        "id": "FcJrivsrktwa"
      },
      "source": [
        "# 3. Train and evaluate models"
      ]
    },
    {
      "cell_type": "code",
      "source": [
        "train_set_pos = pos_tagging(Xtrain[0:10])\n",
        "test_set_pos = pos_tagging(Xtest[0:10])"
      ],
      "metadata": {
        "id": "mIxaZQstXbEa"
      },
      "execution_count": null,
      "outputs": []
    },
    {
      "cell_type": "code",
      "source": [
        "import sklearn_crfsuite"
      ],
      "metadata": {
        "id": "JO5UnW0migCA"
      },
      "execution_count": null,
      "outputs": []
    },
    {
      "cell_type": "code",
      "source": [
        "from sklearn_crfsuite import metrics\n",
        "\n",
        "def train_and_evaluate(Xtrain, Ytrain, Xtest, Ytest, feature_function_list):\n",
        "    X_train_feats = [pos_featurize(sent) for sent in Xtrain]\n",
        "    X_test_feats = [pos_featurize(sent) for sent in Xtest]\n",
        "    crf = sklearn_crfsuite.CRF()\n",
        "    crf.fit(X_train_feats, Ytrain)\n",
        "    y_pred = crf.predict(X_test_feats)\n",
        "    f1_score = metrics.flat_f1_score(Ytest, y_pred, average='weighted', labels=crf.classes_, zero_division=1)\n",
        "    return f1_score"
      ],
      "metadata": {
        "id": "beirnUjLS-w-"
      },
      "execution_count": null,
      "outputs": []
    },
    {
      "cell_type": "code",
      "source": [
        "train_and_evaluate(train_set_pos, Ytrain[0:10], test_set_pos, Ytest[0:10], [pos_featurize])"
      ],
      "metadata": {
        "colab": {
          "base_uri": "https://localhost:8080/"
        },
        "id": "Y5PpK3btTF8U",
        "outputId": "cb3d9168-5537-4a2d-f9c2-b16b5c11990c"
      },
      "execution_count": null,
      "outputs": [
        {
          "output_type": "execute_result",
          "data": {
            "text/plain": [
              "0.8692499076448919"
            ]
          },
          "metadata": {},
          "execution_count": 32
        }
      ]
    }
  ],
  "metadata": {
    "colab": {
      "provenance": [],
      "collapsed_sections": [
        "iCPuLSfZif1-"
      ],
      "include_colab_link": true
    },
    "kernelspec": {
      "display_name": "Python 3 (ipykernel)",
      "language": "python",
      "name": "python3"
    },
    "language_info": {
      "codemirror_mode": {
        "name": "ipython",
        "version": 3
      },
      "file_extension": ".py",
      "mimetype": "text/x-python",
      "name": "python",
      "nbconvert_exporter": "python",
      "pygments_lexer": "ipython3",
      "version": "3.8.12"
    }
  },
  "nbformat": 4,
  "nbformat_minor": 0
}